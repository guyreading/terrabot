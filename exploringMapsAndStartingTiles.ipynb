{
 "cells": [
  {
   "cell_type": "code",
   "execution_count": 2,
   "metadata": {},
   "outputs": [],
   "source": [
    "import pandas as pd"
   ]
  },
  {
   "cell_type": "code",
   "execution_count": 10,
   "metadata": {},
   "outputs": [
    {
     "data": {
      "text/html": [
       "<div>\n",
       "<style scoped>\n",
       "    .dataframe tbody tr th:only-of-type {\n",
       "        vertical-align: middle;\n",
       "    }\n",
       "\n",
       "    .dataframe tbody tr th {\n",
       "        vertical-align: top;\n",
       "    }\n",
       "\n",
       "    .dataframe thead th {\n",
       "        text-align: right;\n",
       "    }\n",
       "</style>\n",
       "<table border=\"1\" class=\"dataframe\">\n",
       "  <thead>\n",
       "    <tr style=\"text-align: right;\">\n",
       "      <th></th>\n",
       "      <th>base_map</th>\n",
       "      <th>game</th>\n",
       "      <th>last_update</th>\n",
       "      <th>player_count</th>\n",
       "    </tr>\n",
       "  </thead>\n",
       "  <tbody>\n",
       "    <tr>\n",
       "      <th>0</th>\n",
       "      <td>126fe960806d587c78546b30f1a90853b1ada468</td>\n",
       "      <td>0000000001</td>\n",
       "      <td>2015-07-22 05:15:51</td>\n",
       "      <td>2</td>\n",
       "    </tr>\n",
       "    <tr>\n",
       "      <th>1</th>\n",
       "      <td>be8f6ebf549404d015547152d5f2a1906ae8dd90</td>\n",
       "      <td>050615</td>\n",
       "      <td>2015-07-13 09:45:00</td>\n",
       "      <td>4</td>\n",
       "    </tr>\n",
       "    <tr>\n",
       "      <th>2</th>\n",
       "      <td>126fe960806d587c78546b30f1a90853b1ada468</td>\n",
       "      <td>0512</td>\n",
       "      <td>2015-07-03 04:17:31</td>\n",
       "      <td>4</td>\n",
       "    </tr>\n",
       "    <tr>\n",
       "      <th>3</th>\n",
       "      <td>126fe960806d587c78546b30f1a90853b1ada468</td>\n",
       "      <td>051501</td>\n",
       "      <td>2015-07-16 21:00:54</td>\n",
       "      <td>5</td>\n",
       "    </tr>\n",
       "    <tr>\n",
       "      <th>4</th>\n",
       "      <td>95a66999127893f5925a5f591d54f8bcb9a670e6</td>\n",
       "      <td>060303</td>\n",
       "      <td>2015-07-02 05:20:19</td>\n",
       "      <td>4</td>\n",
       "    </tr>\n",
       "  </tbody>\n",
       "</table>\n",
       "</div>"
      ],
      "text/plain": [
       "                                   base_map        game          last_update  \\\n",
       "0  126fe960806d587c78546b30f1a90853b1ada468  0000000001  2015-07-22 05:15:51   \n",
       "1  be8f6ebf549404d015547152d5f2a1906ae8dd90      050615  2015-07-13 09:45:00   \n",
       "2  126fe960806d587c78546b30f1a90853b1ada468        0512  2015-07-03 04:17:31   \n",
       "3  126fe960806d587c78546b30f1a90853b1ada468      051501  2015-07-16 21:00:54   \n",
       "4  95a66999127893f5925a5f591d54f8bcb9a670e6      060303  2015-07-02 05:20:19   \n",
       "\n",
       "   player_count  \n",
       "0             2  \n",
       "1             4  \n",
       "2             4  \n",
       "3             5  \n",
       "4             4  "
      ]
     },
     "execution_count": 10,
     "metadata": {},
     "output_type": "execute_result"
    }
   ],
   "source": [
    "folderlocation = \"D:/PycharmProjects/TerraBot/terra-mystica\"\n",
    "gamesraw = pd.read_csv(f'{folderlocation}/games.csv')\n",
    "gamesraw.head()"
   ]
  },
  {
   "cell_type": "code",
   "execution_count": 11,
   "metadata": {},
   "outputs": [
    {
     "data": {
      "text/plain": [
       "126fe960806d587c78546b30f1a90853b1ada468    77158\n",
       "95a66999127893f5925a5f591d54f8bcb9a670e6    21052\n",
       "be8f6ebf549404d015547152d5f2a1906ae8dd90    16184\n",
       "fdb13a13cd48b7a3c3525f27e4628ff6905aa5b1     1210\n",
       "224736500d20520f195970eb0fd4c41df040c08c        3\n",
       "735b073fd7161268bb2796c1275abda92acd8b1a        2\n",
       "c07f36f9e050992d2daf6d44af2bc51dca719c46        1\n",
       "30b6ded823e53670624981abdb2c5b8568a44091        1\n",
       "b109f78907d2cbd5699ced16572be46043558e41        1\n",
       "Name: base_map, dtype: int64"
      ]
     },
     "execution_count": 11,
     "metadata": {},
     "output_type": "execute_result"
    }
   ],
   "source": [
    "gamesraw.base_map.value_counts()"
   ]
  },
  {
   "cell_type": "code",
   "execution_count": 7,
   "metadata": {},
   "outputs": [],
   "source": [
    "def select_games():\n",
    "    \"\"\"We want games that:\n",
    "    1. Only use the original map\n",
    "    2. Only have 4 players\n",
    "    3. Have original tiles selected ...?\n",
    "    \"\"\"\n",
    "\n",
    "\n",
    "    folderlocation = \"D:/PycharmProjects/TerraBot/terra-mystica\"\n",
    "\n",
    "    stats = pd.read_csv(f'{folderlocation}/games.csv')\n",
    "\n",
    "    \"\"\"\n",
    "    input: \n",
    "    >> stats.base_map.value_counts(ii)\n",
    "    Output:\n",
    "    126fe960806d587c78546b30f1a90853b1ada468    0.667387  << this guy's our guy\n",
    "    95a66999127893f5925a5f591d54f8bcb9a670e6    0.182092\n",
    "    be8f6ebf549404d015547152d5f2a1906ae8dd90    0.139985\n",
    "    fdb13a13cd48b7a3c3525f27e4628ff6905aa5b1    0.010466\n",
    "    224736500d20520f195970eb0fd4c41df040c08c    0.000026\n",
    "    735b073fd7161268bb2796c1275abda92acd8b1a    0.000017\n",
    "    b109f78907d2cbd5699ced16572be46043558e41    0.000009\n",
    "    c07f36f9e050992d2daf6d44af2bc51dca719c46    0.000009\n",
    "    30b6ded823e53670624981abdb2c5b8568a44091    0.000009\n",
    "    Name: base_map, dtype: float64\"\"\"\n",
    "\n",
    "    # only use games that have the original map\n",
    "    processedstats = stats[stats['base_map'] == '126fe960806d587c78546b30f1a90853b1ada468']\n",
    "\n",
    "    # only use games that have 4 players\n",
    "    processedstats = processedstats[processedstats['player_count'] == 4]\n",
    "\n",
    "    # remove nas\n",
    "    selectedgames = processedstats[~processedstats.isnull().any(axis=1)]\n",
    "\n",
    "    return selectedgames\n"
   ]
  },
  {
   "cell_type": "markdown",
   "metadata": {},
   "source": [
    "So it turns out:\n",
    "91645cdb135773c2a7a50e5ca9cb18af54c664c4 is the same map as 126f... only there are the following starting vp for each faction:\n",
    "fakirs\t33  \n",
    "alchemists\t27  \n",
    "auren\t27  \n",
    "giants\t25  \n",
    "dragonlords\t24  \n",
    "acolytes\t23  \n",
    "swarmlings\t22  \n",
    "shapeshifters\t22  \n",
    "yetis\t22  \n",
    "riverwalkers\t21  \n",
    "dwarves\t20  \n",
    "icemaidens\t20  \n",
    "halflings\t20  \n",
    "chaosmagicians\t19  \n",
    "mermaids\t19  \n",
    "nomads\t19  \n",
    "witches\t19  \n",
    "engineers\t16  \n",
    "cultists\t16  \n",
    "darklings\t15  \n",
    "\n",
    "With 126f..., all the factions just start with the base 20. We can use both maps if we deducted/added the point difference from 916, or vice versa. That way we can use this picker for both map layouts."
   ]
  },
  {
   "cell_type": "code",
   "execution_count": 9,
   "metadata": {},
   "outputs": [
    {
     "data": {
      "text/plain": [
       "48737"
      ]
     },
     "execution_count": 9,
     "metadata": {},
     "output_type": "execute_result"
    }
   ],
   "source": [
    "selectedgames = select_games()\n",
    "len(selectedgames)"
   ]
  },
  {
   "cell_type": "code",
   "execution_count": 12,
   "metadata": {},
   "outputs": [
    {
     "data": {
      "text/html": [
       "<div>\n",
       "<style scoped>\n",
       "    .dataframe tbody tr th:only-of-type {\n",
       "        vertical-align: middle;\n",
       "    }\n",
       "\n",
       "    .dataframe tbody tr th {\n",
       "        vertical-align: top;\n",
       "    }\n",
       "\n",
       "    .dataframe thead th {\n",
       "        text-align: right;\n",
       "    }\n",
       "</style>\n",
       "<table border=\"1\" class=\"dataframe\">\n",
       "  <thead>\n",
       "    <tr style=\"text-align: right;\">\n",
       "      <th></th>\n",
       "      <th>game</th>\n",
       "      <th>round</th>\n",
       "      <th>tile</th>\n",
       "    </tr>\n",
       "  </thead>\n",
       "  <tbody>\n",
       "    <tr>\n",
       "      <th>0</th>\n",
       "      <td>0000000001</td>\n",
       "      <td>3</td>\n",
       "      <td>SCORE1</td>\n",
       "    </tr>\n",
       "    <tr>\n",
       "      <th>1</th>\n",
       "      <td>0000000001</td>\n",
       "      <td>6</td>\n",
       "      <td>SCORE5</td>\n",
       "    </tr>\n",
       "    <tr>\n",
       "      <th>2</th>\n",
       "      <td>0000000001</td>\n",
       "      <td>5</td>\n",
       "      <td>SCORE4</td>\n",
       "    </tr>\n",
       "    <tr>\n",
       "      <th>3</th>\n",
       "      <td>0000000001</td>\n",
       "      <td>1</td>\n",
       "      <td>SCORE8</td>\n",
       "    </tr>\n",
       "    <tr>\n",
       "      <th>4</th>\n",
       "      <td>0000000001</td>\n",
       "      <td>2</td>\n",
       "      <td>SCORE3</td>\n",
       "    </tr>\n",
       "  </tbody>\n",
       "</table>\n",
       "</div>"
      ],
      "text/plain": [
       "         game  round    tile\n",
       "0  0000000001      3  SCORE1\n",
       "1  0000000001      6  SCORE5\n",
       "2  0000000001      5  SCORE4\n",
       "3  0000000001      1  SCORE8\n",
       "4  0000000001      2  SCORE3"
      ]
     },
     "execution_count": 12,
     "metadata": {},
     "output_type": "execute_result"
    }
   ],
   "source": [
    "gamesscoretiles = pd.read_csv(f'{folderlocation}/game_scoring_tiles.csv')\n",
    "gamesscoretiles.head()"
   ]
  },
  {
   "cell_type": "markdown",
   "metadata": {},
   "source": [
    "What does SCORE1, SCORE5, etc relate to? Which scores? And are there added scores that don't come from the vanilla set? Do we want to keep those?"
   ]
  },
  {
   "cell_type": "code",
   "execution_count": 16,
   "metadata": {},
   "outputs": [
    {
     "data": {
      "text/html": [
       "<div>\n",
       "<style scoped>\n",
       "    .dataframe tbody tr th:only-of-type {\n",
       "        vertical-align: middle;\n",
       "    }\n",
       "\n",
       "    .dataframe tbody tr th {\n",
       "        vertical-align: top;\n",
       "    }\n",
       "\n",
       "    .dataframe thead th {\n",
       "        text-align: right;\n",
       "    }\n",
       "</style>\n",
       "<table border=\"1\" class=\"dataframe\">\n",
       "  <thead>\n",
       "    <tr style=\"text-align: right;\">\n",
       "      <th></th>\n",
       "      <th>base_map</th>\n",
       "      <th>game</th>\n",
       "      <th>last_update</th>\n",
       "      <th>player_count</th>\n",
       "    </tr>\n",
       "  </thead>\n",
       "  <tbody>\n",
       "    <tr>\n",
       "      <th>50412</th>\n",
       "      <td>126fe960806d587c78546b30f1a90853b1ada468</td>\n",
       "      <td>jsnell19</td>\n",
       "      <td>2013-10-30 22:01:28</td>\n",
       "      <td>3</td>\n",
       "    </tr>\n",
       "  </tbody>\n",
       "</table>\n",
       "</div>"
      ],
      "text/plain": [
       "                                       base_map      game  \\\n",
       "50412  126fe960806d587c78546b30f1a90853b1ada468  jsnell19   \n",
       "\n",
       "               last_update  player_count  \n",
       "50412  2013-10-30 22:01:28             3  "
      ]
     },
     "execution_count": 16,
     "metadata": {},
     "output_type": "execute_result"
    }
   ],
   "source": [
    "# trying to find the game so that we can look at the round tiles used & correlated to what's on snellman is posing issues\n",
    "selectedgames[selectedgames['game'] == 'jsnell19']"
   ]
  },
  {
   "cell_type": "code",
   "execution_count": 18,
   "metadata": {},
   "outputs": [
    {
     "data": {
      "text/html": [
       "<div>\n",
       "<style scoped>\n",
       "    .dataframe tbody tr th:only-of-type {\n",
       "        vertical-align: middle;\n",
       "    }\n",
       "\n",
       "    .dataframe tbody tr th {\n",
       "        vertical-align: top;\n",
       "    }\n",
       "\n",
       "    .dataframe thead th {\n",
       "        text-align: right;\n",
       "    }\n",
       "</style>\n",
       "<table border=\"1\" class=\"dataframe\">\n",
       "  <thead>\n",
       "    <tr style=\"text-align: right;\">\n",
       "      <th></th>\n",
       "      <th>base_map</th>\n",
       "      <th>game</th>\n",
       "      <th>last_update</th>\n",
       "      <th>player_count</th>\n",
       "    </tr>\n",
       "  </thead>\n",
       "  <tbody>\n",
       "    <tr>\n",
       "      <th>50412</th>\n",
       "      <td>126fe960806d587c78546b30f1a90853b1ada468</td>\n",
       "      <td>jsnell19</td>\n",
       "      <td>2013-10-30 22:01:28</td>\n",
       "      <td>3</td>\n",
       "    </tr>\n",
       "  </tbody>\n",
       "</table>\n",
       "</div>"
      ],
      "text/plain": [
       "                                       base_map      game  \\\n",
       "50412  126fe960806d587c78546b30f1a90853b1ada468  jsnell19   \n",
       "\n",
       "               last_update  player_count  \n",
       "50412  2013-10-30 22:01:28             3  "
      ]
     },
     "execution_count": 18,
     "metadata": {},
     "output_type": "execute_result"
    }
   ],
   "source": [
    "# ah we must have filtered these ones out (need to look into why) (EDIT: it's because it was a 3 player game. duh.)\n",
    "gamesraw[gamesraw['game'] == 'jsnell19']"
   ]
  },
  {
   "cell_type": "code",
   "execution_count": 19,
   "metadata": {},
   "outputs": [
    {
     "data": {
      "text/html": [
       "<div>\n",
       "<style scoped>\n",
       "    .dataframe tbody tr th:only-of-type {\n",
       "        vertical-align: middle;\n",
       "    }\n",
       "\n",
       "    .dataframe tbody tr th {\n",
       "        vertical-align: top;\n",
       "    }\n",
       "\n",
       "    .dataframe thead th {\n",
       "        text-align: right;\n",
       "    }\n",
       "</style>\n",
       "<table border=\"1\" class=\"dataframe\">\n",
       "  <thead>\n",
       "    <tr style=\"text-align: right;\">\n",
       "      <th></th>\n",
       "      <th>game</th>\n",
       "      <th>round</th>\n",
       "      <th>tile</th>\n",
       "    </tr>\n",
       "  </thead>\n",
       "  <tbody>\n",
       "    <tr>\n",
       "      <th>302472</th>\n",
       "      <td>jsnell19</td>\n",
       "      <td>1</td>\n",
       "      <td>SCORE6</td>\n",
       "    </tr>\n",
       "    <tr>\n",
       "      <th>302473</th>\n",
       "      <td>jsnell19</td>\n",
       "      <td>2</td>\n",
       "      <td>SCORE5</td>\n",
       "    </tr>\n",
       "    <tr>\n",
       "      <th>302474</th>\n",
       "      <td>jsnell19</td>\n",
       "      <td>3</td>\n",
       "      <td>SCORE4</td>\n",
       "    </tr>\n",
       "    <tr>\n",
       "      <th>302475</th>\n",
       "      <td>jsnell19</td>\n",
       "      <td>5</td>\n",
       "      <td>SCORE7</td>\n",
       "    </tr>\n",
       "    <tr>\n",
       "      <th>302476</th>\n",
       "      <td>jsnell19</td>\n",
       "      <td>6</td>\n",
       "      <td>SCORE3</td>\n",
       "    </tr>\n",
       "    <tr>\n",
       "      <th>302477</th>\n",
       "      <td>jsnell19</td>\n",
       "      <td>4</td>\n",
       "      <td>SCORE2</td>\n",
       "    </tr>\n",
       "  </tbody>\n",
       "</table>\n",
       "</div>"
      ],
      "text/plain": [
       "            game  round    tile\n",
       "302472  jsnell19      1  SCORE6\n",
       "302473  jsnell19      2  SCORE5\n",
       "302474  jsnell19      3  SCORE4\n",
       "302475  jsnell19      5  SCORE7\n",
       "302476  jsnell19      6  SCORE3\n",
       "302477  jsnell19      4  SCORE2"
      ]
     },
     "execution_count": 19,
     "metadata": {},
     "output_type": "execute_result"
    }
   ],
   "source": [
    "gamesscoretiles[gamesscoretiles['game'] == 'jsnell19']"
   ]
  },
  {
   "cell_type": "markdown",
   "metadata": {},
   "source": [
    "Great! So that works. Let's have a look...  \n",
    "SCORE2 = TOWN >> 5  \n",
    "SCORE3 = D >> 2  \n",
    "SCORE4 = SA/SH >> 5  \n",
    "SCORE5 = D >> 2  \n",
    "SCORE6 = TP >> 3  \n",
    "SCORE7 = SA/SH >> 5"
   ]
  },
  {
   "cell_type": "code",
   "execution_count": 21,
   "metadata": {},
   "outputs": [
    {
     "data": {
      "text/plain": [
       "array(['SCORE1', 'SCORE5', 'SCORE4', 'SCORE8', 'SCORE3', 'SCORE2',\n",
       "       'SCORE6', 'SCORE7', 'SCORE9'], dtype=object)"
      ]
     },
     "execution_count": 21,
     "metadata": {},
     "output_type": "execute_result"
    }
   ],
   "source": [
    "# hm. How many scores do we have to do?\n",
    "pd.unique(gamesscoretiles['tile'])"
   ]
  },
  {
   "cell_type": "code",
   "execution_count": 22,
   "metadata": {},
   "outputs": [
    {
     "data": {
      "text/html": [
       "<div>\n",
       "<style scoped>\n",
       "    .dataframe tbody tr th:only-of-type {\n",
       "        vertical-align: middle;\n",
       "    }\n",
       "\n",
       "    .dataframe tbody tr th {\n",
       "        vertical-align: top;\n",
       "    }\n",
       "\n",
       "    .dataframe thead th {\n",
       "        text-align: right;\n",
       "    }\n",
       "</style>\n",
       "<table border=\"1\" class=\"dataframe\">\n",
       "  <thead>\n",
       "    <tr style=\"text-align: right;\">\n",
       "      <th></th>\n",
       "      <th>game</th>\n",
       "      <th>round</th>\n",
       "      <th>tile</th>\n",
       "    </tr>\n",
       "  </thead>\n",
       "  <tbody>\n",
       "    <tr>\n",
       "      <th>243744</th>\n",
       "      <td>CatGeorgeGuyJames</td>\n",
       "      <td>5</td>\n",
       "      <td>SCORE6</td>\n",
       "    </tr>\n",
       "    <tr>\n",
       "      <th>243745</th>\n",
       "      <td>CatGeorgeGuyJames</td>\n",
       "      <td>4</td>\n",
       "      <td>SCORE9</td>\n",
       "    </tr>\n",
       "    <tr>\n",
       "      <th>243746</th>\n",
       "      <td>CatGeorgeGuyJames</td>\n",
       "      <td>3</td>\n",
       "      <td>SCORE4</td>\n",
       "    </tr>\n",
       "    <tr>\n",
       "      <th>243747</th>\n",
       "      <td>CatGeorgeGuyJames</td>\n",
       "      <td>2</td>\n",
       "      <td>SCORE7</td>\n",
       "    </tr>\n",
       "    <tr>\n",
       "      <th>243748</th>\n",
       "      <td>CatGeorgeGuyJames</td>\n",
       "      <td>1</td>\n",
       "      <td>SCORE8</td>\n",
       "    </tr>\n",
       "    <tr>\n",
       "      <th>243749</th>\n",
       "      <td>CatGeorgeGuyJames</td>\n",
       "      <td>6</td>\n",
       "      <td>SCORE2</td>\n",
       "    </tr>\n",
       "  </tbody>\n",
       "</table>\n",
       "</div>"
      ],
      "text/plain": [
       "                     game  round    tile\n",
       "243744  CatGeorgeGuyJames      5  SCORE6\n",
       "243745  CatGeorgeGuyJames      4  SCORE9\n",
       "243746  CatGeorgeGuyJames      3  SCORE4\n",
       "243747  CatGeorgeGuyJames      2  SCORE7\n",
       "243748  CatGeorgeGuyJames      1  SCORE8\n",
       "243749  CatGeorgeGuyJames      6  SCORE2"
      ]
     },
     "execution_count": 22,
     "metadata": {},
     "output_type": "execute_result"
    }
   ],
   "source": [
    "gamesscoretiles[gamesscoretiles['game'] == 'CatGeorgeGuyJames']"
   ]
  },
  {
   "cell_type": "code",
   "execution_count": 24,
   "metadata": {},
   "outputs": [
    {
     "data": {
      "text/html": [
       "<div>\n",
       "<style scoped>\n",
       "    .dataframe tbody tr th:only-of-type {\n",
       "        vertical-align: middle;\n",
       "    }\n",
       "\n",
       "    .dataframe tbody tr th {\n",
       "        vertical-align: top;\n",
       "    }\n",
       "\n",
       "    .dataframe thead th {\n",
       "        text-align: right;\n",
       "    }\n",
       "</style>\n",
       "<table border=\"1\" class=\"dataframe\">\n",
       "  <thead>\n",
       "    <tr style=\"text-align: right;\">\n",
       "      <th></th>\n",
       "      <th>game</th>\n",
       "      <th>round</th>\n",
       "      <th>tile</th>\n",
       "    </tr>\n",
       "  </thead>\n",
       "  <tbody>\n",
       "    <tr>\n",
       "      <th>484152</th>\n",
       "      <td>GuyJamesChari</td>\n",
       "      <td>1</td>\n",
       "      <td>SCORE1</td>\n",
       "    </tr>\n",
       "    <tr>\n",
       "      <th>484153</th>\n",
       "      <td>GuyJamesChari</td>\n",
       "      <td>6</td>\n",
       "      <td>SCORE9</td>\n",
       "    </tr>\n",
       "    <tr>\n",
       "      <th>484154</th>\n",
       "      <td>GuyJamesChari</td>\n",
       "      <td>2</td>\n",
       "      <td>SCORE5</td>\n",
       "    </tr>\n",
       "    <tr>\n",
       "      <th>484155</th>\n",
       "      <td>GuyJamesChari</td>\n",
       "      <td>3</td>\n",
       "      <td>SCORE4</td>\n",
       "    </tr>\n",
       "    <tr>\n",
       "      <th>484156</th>\n",
       "      <td>GuyJamesChari</td>\n",
       "      <td>5</td>\n",
       "      <td>SCORE7</td>\n",
       "    </tr>\n",
       "    <tr>\n",
       "      <th>484157</th>\n",
       "      <td>GuyJamesChari</td>\n",
       "      <td>4</td>\n",
       "      <td>SCORE8</td>\n",
       "    </tr>\n",
       "  </tbody>\n",
       "</table>\n",
       "</div>"
      ],
      "text/plain": [
       "                 game  round    tile\n",
       "484152  GuyJamesChari      1  SCORE1\n",
       "484153  GuyJamesChari      6  SCORE9\n",
       "484154  GuyJamesChari      2  SCORE5\n",
       "484155  GuyJamesChari      3  SCORE4\n",
       "484156  GuyJamesChari      5  SCORE7\n",
       "484157  GuyJamesChari      4  SCORE8"
      ]
     },
     "execution_count": 24,
     "metadata": {},
     "output_type": "execute_result"
    }
   ],
   "source": [
    "gamesscoretiles[gamesscoretiles['game'] == 'GuyJamesChari']"
   ]
  },
  {
   "cell_type": "markdown",
   "metadata": {},
   "source": [
    "So to get all tiles:  \n",
    "SCORE1 = SPADE >> 2  \n",
    "SCORE2 = TOWN >> 5  \n",
    "SCORE3 = D >> 2  \n",
    "SCORE4 = SA/SH >> 5  \n",
    "SCORE5 = D >> 2  \n",
    "SCORE6 = TP >> 3  \n",
    "SCORE7 = SA/SH >> 5  \n",
    "SCORE8 = TP >> 3  \n",
    "SCORE9 = TE >> 4\n",
    "\n",
    "COOL. So now we've got the map figured out, we've got the scoring tiles, what about the bonus tiles?"
   ]
  },
  {
   "cell_type": "code",
   "execution_count": 27,
   "metadata": {},
   "outputs": [
    {
     "data": {
      "text/html": [
       "<div>\n",
       "<style scoped>\n",
       "    .dataframe tbody tr th:only-of-type {\n",
       "        vertical-align: middle;\n",
       "    }\n",
       "\n",
       "    .dataframe tbody tr th {\n",
       "        vertical-align: top;\n",
       "    }\n",
       "\n",
       "    .dataframe thead th {\n",
       "        text-align: right;\n",
       "    }\n",
       "</style>\n",
       "<table border=\"1\" class=\"dataframe\">\n",
       "  <thead>\n",
       "    <tr style=\"text-align: right;\">\n",
       "      <th></th>\n",
       "      <th>game</th>\n",
       "      <th>option</th>\n",
       "    </tr>\n",
       "  </thead>\n",
       "  <tbody>\n",
       "    <tr>\n",
       "      <th>0</th>\n",
       "      <td>0000000001</td>\n",
       "      <td>option-strict-darkling-sh</td>\n",
       "    </tr>\n",
       "    <tr>\n",
       "      <th>1</th>\n",
       "      <td>0000000001</td>\n",
       "      <td>option-email-notify</td>\n",
       "    </tr>\n",
       "    <tr>\n",
       "      <th>2</th>\n",
       "      <td>0000000001</td>\n",
       "      <td>option-shipping-bonus</td>\n",
       "    </tr>\n",
       "    <tr>\n",
       "      <th>3</th>\n",
       "      <td>0000000001</td>\n",
       "      <td>option-strict-chaosmagician-sh</td>\n",
       "    </tr>\n",
       "    <tr>\n",
       "      <th>4</th>\n",
       "      <td>0000000001</td>\n",
       "      <td>option-errata-cultist-power</td>\n",
       "    </tr>\n",
       "    <tr>\n",
       "      <th>5</th>\n",
       "      <td>0000000001</td>\n",
       "      <td>option-mini-expansion-1</td>\n",
       "    </tr>\n",
       "    <tr>\n",
       "      <th>6</th>\n",
       "      <td>0000000001</td>\n",
       "      <td>option-strict-leech</td>\n",
       "    </tr>\n",
       "    <tr>\n",
       "      <th>7</th>\n",
       "      <td>050615</td>\n",
       "      <td>option-email-notify</td>\n",
       "    </tr>\n",
       "    <tr>\n",
       "      <th>8</th>\n",
       "      <td>050615</td>\n",
       "      <td>option-strict-chaosmagician-sh</td>\n",
       "    </tr>\n",
       "    <tr>\n",
       "      <th>9</th>\n",
       "      <td>050615</td>\n",
       "      <td>option-errata-cultist-power</td>\n",
       "    </tr>\n",
       "  </tbody>\n",
       "</table>\n",
       "</div>"
      ],
      "text/plain": [
       "         game                          option\n",
       "0  0000000001       option-strict-darkling-sh\n",
       "1  0000000001             option-email-notify\n",
       "2  0000000001           option-shipping-bonus\n",
       "3  0000000001  option-strict-chaosmagician-sh\n",
       "4  0000000001     option-errata-cultist-power\n",
       "5  0000000001         option-mini-expansion-1\n",
       "6  0000000001             option-strict-leech\n",
       "7      050615             option-email-notify\n",
       "8      050615  option-strict-chaosmagician-sh\n",
       "9      050615     option-errata-cultist-power"
      ]
     },
     "execution_count": 27,
     "metadata": {},
     "output_type": "execute_result"
    }
   ],
   "source": [
    "# this one?\n",
    "game_options = pd.read_csv(f'{folderlocation}/game_options.csv')\n",
    "game_options.head(10)"
   ]
  },
  {
   "cell_type": "code",
   "execution_count": 28,
   "metadata": {},
   "outputs": [],
   "source": [
    "# nope. This one?\n",
    "game_eventsraw = pd.read_csv(f'{folderlocation}/game_events.csv')"
   ]
  },
  {
   "cell_type": "code",
   "execution_count": 33,
   "metadata": {},
   "outputs": [],
   "source": [
    "# game_eventsraw.query('game == GuyJamesChari & round == 1')\n",
    "singlegame = game_eventsraw[(game_eventsraw['game'] == 'GuyJamesChari')]"
   ]
  },
  {
   "cell_type": "code",
   "execution_count": 34,
   "metadata": {},
   "outputs": [
    {
     "name": "stdout",
     "output_type": "stream",
     "text": [
      "[2 6 1 5 3 4 0]\n"
     ]
    }
   ],
   "source": [
    "print(pd.unique(singlegame['round']))"
   ]
  },
  {
   "cell_type": "code",
   "execution_count": 35,
   "metadata": {},
   "outputs": [
    {
     "data": {
      "text/html": [
       "<div>\n",
       "<style scoped>\n",
       "    .dataframe tbody tr th:only-of-type {\n",
       "        vertical-align: middle;\n",
       "    }\n",
       "\n",
       "    .dataframe tbody tr th {\n",
       "        vertical-align: top;\n",
       "    }\n",
       "\n",
       "    .dataframe thead th {\n",
       "        text-align: right;\n",
       "    }\n",
       "</style>\n",
       "<table border=\"1\" class=\"dataframe\">\n",
       "  <thead>\n",
       "    <tr style=\"text-align: right;\">\n",
       "      <th></th>\n",
       "      <th>event</th>\n",
       "      <th>faction</th>\n",
       "      <th>game</th>\n",
       "      <th>num</th>\n",
       "      <th>round</th>\n",
       "      <th>turn</th>\n",
       "    </tr>\n",
       "  </thead>\n",
       "  <tbody>\n",
       "    <tr>\n",
       "      <th>51548368</th>\n",
       "      <td>pass:BON1</td>\n",
       "      <td>nomads</td>\n",
       "      <td>GuyJamesChari</td>\n",
       "      <td>1</td>\n",
       "      <td>0</td>\n",
       "      <td>0</td>\n",
       "    </tr>\n",
       "    <tr>\n",
       "      <th>51548421</th>\n",
       "      <td>build:D</td>\n",
       "      <td>nomads</td>\n",
       "      <td>GuyJamesChari</td>\n",
       "      <td>3</td>\n",
       "      <td>0</td>\n",
       "      <td>0</td>\n",
       "    </tr>\n",
       "    <tr>\n",
       "      <th>51548516</th>\n",
       "      <td>pass:BON8</td>\n",
       "      <td>engineers</td>\n",
       "      <td>GuyJamesChari</td>\n",
       "      <td>1</td>\n",
       "      <td>0</td>\n",
       "      <td>0</td>\n",
       "    </tr>\n",
       "    <tr>\n",
       "      <th>51548560</th>\n",
       "      <td>build:D</td>\n",
       "      <td>engineers</td>\n",
       "      <td>GuyJamesChari</td>\n",
       "      <td>2</td>\n",
       "      <td>0</td>\n",
       "      <td>0</td>\n",
       "    </tr>\n",
       "    <tr>\n",
       "      <th>51548663</th>\n",
       "      <td>pass:BON5</td>\n",
       "      <td>cultists</td>\n",
       "      <td>GuyJamesChari</td>\n",
       "      <td>1</td>\n",
       "      <td>0</td>\n",
       "      <td>0</td>\n",
       "    </tr>\n",
       "    <tr>\n",
       "      <th>51548709</th>\n",
       "      <td>build:D</td>\n",
       "      <td>cultists</td>\n",
       "      <td>GuyJamesChari</td>\n",
       "      <td>2</td>\n",
       "      <td>0</td>\n",
       "      <td>0</td>\n",
       "    </tr>\n",
       "    <tr>\n",
       "      <th>51548824</th>\n",
       "      <td>pass:BON1</td>\n",
       "      <td>all</td>\n",
       "      <td>GuyJamesChari</td>\n",
       "      <td>1</td>\n",
       "      <td>0</td>\n",
       "      <td>0</td>\n",
       "    </tr>\n",
       "    <tr>\n",
       "      <th>51548904</th>\n",
       "      <td>pass:BON5</td>\n",
       "      <td>all</td>\n",
       "      <td>GuyJamesChari</td>\n",
       "      <td>1</td>\n",
       "      <td>0</td>\n",
       "      <td>0</td>\n",
       "    </tr>\n",
       "    <tr>\n",
       "      <th>51548908</th>\n",
       "      <td>pass:BON8</td>\n",
       "      <td>all</td>\n",
       "      <td>GuyJamesChari</td>\n",
       "      <td>1</td>\n",
       "      <td>0</td>\n",
       "      <td>0</td>\n",
       "    </tr>\n",
       "    <tr>\n",
       "      <th>51548996</th>\n",
       "      <td>build:D</td>\n",
       "      <td>all</td>\n",
       "      <td>GuyJamesChari</td>\n",
       "      <td>7</td>\n",
       "      <td>0</td>\n",
       "      <td>0</td>\n",
       "    </tr>\n",
       "  </tbody>\n",
       "</table>\n",
       "</div>"
      ],
      "text/plain": [
       "              event    faction           game  num  round  turn\n",
       "51548368  pass:BON1     nomads  GuyJamesChari    1      0     0\n",
       "51548421    build:D     nomads  GuyJamesChari    3      0     0\n",
       "51548516  pass:BON8  engineers  GuyJamesChari    1      0     0\n",
       "51548560    build:D  engineers  GuyJamesChari    2      0     0\n",
       "51548663  pass:BON5   cultists  GuyJamesChari    1      0     0\n",
       "51548709    build:D   cultists  GuyJamesChari    2      0     0\n",
       "51548824  pass:BON1        all  GuyJamesChari    1      0     0\n",
       "51548904  pass:BON5        all  GuyJamesChari    1      0     0\n",
       "51548908  pass:BON8        all  GuyJamesChari    1      0     0\n",
       "51548996    build:D        all  GuyJamesChari    7      0     0"
      ]
     },
     "execution_count": 35,
     "metadata": {},
     "output_type": "execute_result"
    }
   ],
   "source": [
    "# ah so there's a round 0\n",
    "singlegame[singlegame['round'] == 0]"
   ]
  },
  {
   "cell_type": "code",
   "execution_count": 45,
   "metadata": {},
   "outputs": [
    {
     "name": "stdout",
     "output_type": "stream",
     "text": [
      "['build:D', 'burn', 'drop', 'favor:FAV1', 'favor:FAV10', 'favor:FAV11', 'favor:FAV12', 'favor:FAV2', 'favor:FAV3', 'favor:FAV4', 'favor:FAV5', 'favor:FAV6', 'favor:FAV7', 'favor:FAV8', 'favor:FAV9', 'favor:any', 'pass:BON1', 'pass:BON10', 'pass:BON2', 'pass:BON3', 'pass:BON4', 'pass:BON5', 'pass:BON6', 'pass:BON7', 'pass:BON8', 'pass:BON9', 'pick-color:black', 'pick-color:blue', 'pick-color:brown', 'pick-color:gray', 'pick-color:green', 'pick-color:red', 'pick-color:yellow', 'vp']\n"
     ]
    }
   ],
   "source": [
    "uniqueroundzero = pd.unique(game_eventsraw[game_eventsraw['round'] == 0]['event'])\n",
    "print(sorted(uniqueroundzero))"
   ]
  },
  {
   "cell_type": "markdown",
   "metadata": {},
   "source": [
    "So we have:  \n",
    "pass:BON1  \n",
    "pass:BON2  \n",
    "pass:BON3  \n",
    "pass:BON4  \n",
    "pass:BON5  \n",
    "pass:BON6  \n",
    "pass:BON7  \n",
    "pass:BON8  \n",
    "pass:BON9  \n",
    "pass:BON10"
   ]
  },
  {
   "cell_type": "code",
   "execution_count": null,
   "metadata": {},
   "outputs": [],
   "source": []
  }
 ],
 "metadata": {
  "kernelspec": {
   "display_name": "Python 3",
   "language": "python",
   "name": "python3"
  },
  "language_info": {
   "codemirror_mode": {
    "name": "ipython",
    "version": 3
   },
   "file_extension": ".py",
   "mimetype": "text/x-python",
   "name": "python",
   "nbconvert_exporter": "python",
   "pygments_lexer": "ipython3",
   "version": "3.7.4"
  }
 },
 "nbformat": 4,
 "nbformat_minor": 4
}
