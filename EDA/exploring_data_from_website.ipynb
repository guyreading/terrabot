{
 "cells": [
  {
   "cell_type": "markdown",
   "metadata": {},
   "source": [
    "The data from the Kaggle site doesn't have a clear set of data relating to final VP for each faction for each game. This seems like a mistake. Let's explore"
   ]
  },
  {
   "cell_type": "code",
   "execution_count": 6,
   "metadata": {},
   "outputs": [],
   "source": [
    "import pandas as pd"
   ]
  },
  {
   "cell_type": "code",
   "execution_count": 7,
   "metadata": {},
   "outputs": [
    {
     "data": {
      "text/html": [
       "<div>\n",
       "<style scoped>\n",
       "    .dataframe tbody tr th:only-of-type {\n",
       "        vertical-align: middle;\n",
       "    }\n",
       "\n",
       "    .dataframe tbody tr th {\n",
       "        vertical-align: top;\n",
       "    }\n",
       "\n",
       "    .dataframe thead th {\n",
       "        text-align: right;\n",
       "    }\n",
       "</style>\n",
       "<table border=\"1\" class=\"dataframe\">\n",
       "  <thead>\n",
       "    <tr style=\"text-align: right;\">\n",
       "      <th></th>\n",
       "      <th>news</th>\n",
       "    </tr>\n",
       "  </thead>\n",
       "  <tbody>\n",
       "    <tr>\n",
       "      <th>0</th>\n",
       "      <td>{'date': '2019-06-17', 'title': 'Fjords playte...</td>\n",
       "    </tr>\n",
       "    <tr>\n",
       "      <th>1</th>\n",
       "      <td>{'date': '2018-08-26', 'title': 'New map, Fjor...</td>\n",
       "    </tr>\n",
       "    <tr>\n",
       "      <th>2</th>\n",
       "      <td>{'date': '2018-03-31', 'title': 'Added map VP ...</td>\n",
       "    </tr>\n",
       "    <tr>\n",
       "      <th>3</th>\n",
       "      <td>{'date': '2018-01-11', 'title': 'New map, Fjor...</td>\n",
       "    </tr>\n",
       "    <tr>\n",
       "      <th>4</th>\n",
       "      <td>{'date': '2017-10-08', 'title': 'New map, Fjor...</td>\n",
       "    </tr>\n",
       "  </tbody>\n",
       "</table>\n",
       "</div>"
      ],
      "text/plain": [
       "                                                news\n",
       "0  {'date': '2019-06-17', 'title': 'Fjords playte...\n",
       "1  {'date': '2018-08-26', 'title': 'New map, Fjor...\n",
       "2  {'date': '2018-03-31', 'title': 'Added map VP ...\n",
       "3  {'date': '2018-01-11', 'title': 'New map, Fjor...\n",
       "4  {'date': '2017-10-08', 'title': 'New map, Fjor..."
      ]
     },
     "execution_count": 7,
     "metadata": {},
     "output_type": "execute_result"
    }
   ],
   "source": [
    "url = 'https://terra.snellman.net/data/changes.json'\n",
    "changesdata = pd.read_json(url)\n",
    "changesdata.head()"
   ]
  },
  {
   "cell_type": "code",
   "execution_count": 8,
   "metadata": {},
   "outputs": [
    {
     "data": {
      "text/html": [
       "<div>\n",
       "<style scoped>\n",
       "    .dataframe tbody tr th:only-of-type {\n",
       "        vertical-align: middle;\n",
       "    }\n",
       "\n",
       "    .dataframe tbody tr th {\n",
       "        vertical-align: top;\n",
       "    }\n",
       "\n",
       "    .dataframe thead th {\n",
       "        text-align: right;\n",
       "    }\n",
       "</style>\n",
       "<table border=\"1\" class=\"dataframe\">\n",
       "  <thead>\n",
       "    <tr style=\"text-align: right;\">\n",
       "      <th></th>\n",
       "      <th>0</th>\n",
       "      <th>1</th>\n",
       "    </tr>\n",
       "  </thead>\n",
       "  <tbody>\n",
       "    <tr>\n",
       "      <th>0</th>\n",
       "      <td>{'final_scoring': 'expansion', 'map': 'be8f6eb...</td>\n",
       "      <td>{'average_winner_vp': 1399, 'expected_wins': 3...</td>\n",
       "    </tr>\n",
       "    <tr>\n",
       "      <th>1</th>\n",
       "      <td>{'final_scoring': 'expansion', 'map': '95a6699...</td>\n",
       "      <td>{'average_margin': 114, 'wins': 5, 'count': 8,...</td>\n",
       "    </tr>\n",
       "    <tr>\n",
       "      <th>2</th>\n",
       "      <td>{'faction': 'yetis', 'min_rating': 0, 'start_p...</td>\n",
       "      <td>{'high_score': {'time': '2019-09-02 09:38:08',...</td>\n",
       "    </tr>\n",
       "    <tr>\n",
       "      <th>3</th>\n",
       "      <td>{'start_position': 'last', 'faction': 'dwarves...</td>\n",
       "      <td>{'average_vp': 7305, 'average_position': 114, ...</td>\n",
       "    </tr>\n",
       "    <tr>\n",
       "      <th>4</th>\n",
       "      <td>{'map': '95a66999127893f5925a5f591d54f8bcb9a67...</td>\n",
       "      <td>{'expected_wins': 0.5, 'average_winner_vp': 12...</td>\n",
       "    </tr>\n",
       "  </tbody>\n",
       "</table>\n",
       "</div>"
      ],
      "text/plain": [
       "                                                   0  \\\n",
       "0  {'final_scoring': 'expansion', 'map': 'be8f6eb...   \n",
       "1  {'final_scoring': 'expansion', 'map': '95a6699...   \n",
       "2  {'faction': 'yetis', 'min_rating': 0, 'start_p...   \n",
       "3  {'start_position': 'last', 'faction': 'dwarves...   \n",
       "4  {'map': '95a66999127893f5925a5f591d54f8bcb9a67...   \n",
       "\n",
       "                                                   1  \n",
       "0  {'average_winner_vp': 1399, 'expected_wins': 3...  \n",
       "1  {'average_margin': 114, 'wins': 5, 'count': 8,...  \n",
       "2  {'high_score': {'time': '2019-09-02 09:38:08',...  \n",
       "3  {'average_vp': 7305, 'average_position': 114, ...  \n",
       "4  {'expected_wins': 0.5, 'average_winner_vp': 12...  "
      ]
     },
     "execution_count": 8,
     "metadata": {},
     "output_type": "execute_result"
    }
   ],
   "source": [
    "url = 'https://terra.snellman.net/data/stats.json'\n",
    "statsdata = pd.read_json(url)\n",
    "statsdata.head()"
   ]
  },
  {
   "cell_type": "code",
   "execution_count": 16,
   "metadata": {},
   "outputs": [
    {
     "name": "stdout",
     "output_type": "stream",
     "text": [
      "{'final_scoring': 'expansion', 'map': 'be8f6ebf549404d015547152d5f2a1906ae8dd90', 'player_count': 3, 'min_rating': 0, 'faction': 'icemaidens', 'start_position': 'middle'}\n",
      "{'average_winner_vp': 1399, 'expected_wins': 3, 'high_score': {'game': 'HyperionXII', 'vp': 173, 'time': '2017-11-19 05:30:01', 'player': 'drinkperrier'}, 'average_margin': 99, 'count': 9, 'wins': 4.5, 'average_position': 16, 'average_vp': 1284}\n"
     ]
    }
   ],
   "source": [
    "print(statsdata.iloc[0][0])\n",
    "print(statsdata.iloc[0][1])"
   ]
  },
  {
   "cell_type": "markdown",
   "metadata": {},
   "source": [
    "FFS SO WHERE IS THE VP FOR EACH FACTION!!"
   ]
  }
 ],
 "metadata": {
  "kernelspec": {
   "display_name": "Python 3",
   "language": "python",
   "name": "python3"
  },
  "language_info": {
   "codemirror_mode": {
    "name": "ipython",
    "version": 3
   },
   "file_extension": ".py",
   "mimetype": "text/x-python",
   "name": "python",
   "nbconvert_exporter": "python",
   "pygments_lexer": "ipython3",
   "version": "3.7.4"
  }
 },
 "nbformat": 4,
 "nbformat_minor": 4
}
