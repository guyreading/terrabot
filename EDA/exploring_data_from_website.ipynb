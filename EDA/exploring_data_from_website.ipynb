{
 "cells": [
  {
   "cell_type": "markdown",
   "metadata": {},
   "source": [
    "The data from the Kaggle site doesn't have a clear set of data relating to final VP for each faction for each game. This seems like a mistake. Let's explore"
   ]
  },
  {
   "cell_type": "code",
   "execution_count": 6,
   "metadata": {},
   "outputs": [],
   "source": [
    "import pandas as pd"
   ]
  },
  {
   "cell_type": "code",
   "execution_count": 7,
   "metadata": {},
   "outputs": [
    {
     "data": {
      "text/html": [
       "<div>\n",
       "<style scoped>\n",
       "    .dataframe tbody tr th:only-of-type {\n",
       "        vertical-align: middle;\n",
       "    }\n",
       "\n",
       "    .dataframe tbody tr th {\n",
       "        vertical-align: top;\n",
       "    }\n",
       "\n",
       "    .dataframe thead th {\n",
       "        text-align: right;\n",
       "    }\n",
       "</style>\n",
       "<table border=\"1\" class=\"dataframe\">\n",
       "  <thead>\n",
       "    <tr style=\"text-align: right;\">\n",
       "      <th></th>\n",
       "      <th>news</th>\n",
       "    </tr>\n",
       "  </thead>\n",
       "  <tbody>\n",
       "    <tr>\n",
       "      <th>0</th>\n",
       "      <td>{'date': '2019-06-17', 'title': 'Fjords playte...</td>\n",
       "    </tr>\n",
       "    <tr>\n",
       "      <th>1</th>\n",
       "      <td>{'date': '2018-08-26', 'title': 'New map, Fjor...</td>\n",
       "    </tr>\n",
       "    <tr>\n",
       "      <th>2</th>\n",
       "      <td>{'date': '2018-03-31', 'title': 'Added map VP ...</td>\n",
       "    </tr>\n",
       "    <tr>\n",
       "      <th>3</th>\n",
       "      <td>{'date': '2018-01-11', 'title': 'New map, Fjor...</td>\n",
       "    </tr>\n",
       "    <tr>\n",
       "      <th>4</th>\n",
       "      <td>{'date': '2017-10-08', 'title': 'New map, Fjor...</td>\n",
       "    </tr>\n",
       "  </tbody>\n",
       "</table>\n",
       "</div>"
      ],
      "text/plain": [
       "                                                news\n",
       "0  {'date': '2019-06-17', 'title': 'Fjords playte...\n",
       "1  {'date': '2018-08-26', 'title': 'New map, Fjor...\n",
       "2  {'date': '2018-03-31', 'title': 'Added map VP ...\n",
       "3  {'date': '2018-01-11', 'title': 'New map, Fjor...\n",
       "4  {'date': '2017-10-08', 'title': 'New map, Fjor..."
      ]
     },
     "execution_count": 7,
     "metadata": {},
     "output_type": "execute_result"
    }
   ],
   "source": [
    "url = 'https://terra.snellman.net/data/changes.json'\n",
    "changesdata = pd.read_json(url)\n",
    "changesdata.head()"
   ]
  },
  {
   "cell_type": "code",
   "execution_count": 8,
   "metadata": {},
   "outputs": [
    {
     "data": {
      "text/html": [
       "<div>\n",
       "<style scoped>\n",
       "    .dataframe tbody tr th:only-of-type {\n",
       "        vertical-align: middle;\n",
       "    }\n",
       "\n",
       "    .dataframe tbody tr th {\n",
       "        vertical-align: top;\n",
       "    }\n",
       "\n",
       "    .dataframe thead th {\n",
       "        text-align: right;\n",
       "    }\n",
       "</style>\n",
       "<table border=\"1\" class=\"dataframe\">\n",
       "  <thead>\n",
       "    <tr style=\"text-align: right;\">\n",
       "      <th></th>\n",
       "      <th>0</th>\n",
       "      <th>1</th>\n",
       "    </tr>\n",
       "  </thead>\n",
       "  <tbody>\n",
       "    <tr>\n",
       "      <th>0</th>\n",
       "      <td>{'final_scoring': 'expansion', 'map': 'be8f6eb...</td>\n",
       "      <td>{'average_winner_vp': 1399, 'expected_wins': 3...</td>\n",
       "    </tr>\n",
       "    <tr>\n",
       "      <th>1</th>\n",
       "      <td>{'final_scoring': 'expansion', 'map': '95a6699...</td>\n",
       "      <td>{'average_margin': 114, 'wins': 5, 'count': 8,...</td>\n",
       "    </tr>\n",
       "    <tr>\n",
       "      <th>2</th>\n",
       "      <td>{'faction': 'yetis', 'min_rating': 0, 'start_p...</td>\n",
       "      <td>{'high_score': {'time': '2019-09-02 09:38:08',...</td>\n",
       "    </tr>\n",
       "    <tr>\n",
       "      <th>3</th>\n",
       "      <td>{'start_position': 'last', 'faction': 'dwarves...</td>\n",
       "      <td>{'average_vp': 7305, 'average_position': 114, ...</td>\n",
       "    </tr>\n",
       "    <tr>\n",
       "      <th>4</th>\n",
       "      <td>{'map': '95a66999127893f5925a5f591d54f8bcb9a67...</td>\n",
       "      <td>{'expected_wins': 0.5, 'average_winner_vp': 12...</td>\n",
       "    </tr>\n",
       "  </tbody>\n",
       "</table>\n",
       "</div>"
      ],
      "text/plain": [
       "                                                   0  \\\n",
       "0  {'final_scoring': 'expansion', 'map': 'be8f6eb...   \n",
       "1  {'final_scoring': 'expansion', 'map': '95a6699...   \n",
       "2  {'faction': 'yetis', 'min_rating': 0, 'start_p...   \n",
       "3  {'start_position': 'last', 'faction': 'dwarves...   \n",
       "4  {'map': '95a66999127893f5925a5f591d54f8bcb9a67...   \n",
       "\n",
       "                                                   1  \n",
       "0  {'average_winner_vp': 1399, 'expected_wins': 3...  \n",
       "1  {'average_margin': 114, 'wins': 5, 'count': 8,...  \n",
       "2  {'high_score': {'time': '2019-09-02 09:38:08',...  \n",
       "3  {'average_vp': 7305, 'average_position': 114, ...  \n",
       "4  {'expected_wins': 0.5, 'average_winner_vp': 12...  "
      ]
     },
     "execution_count": 8,
     "metadata": {},
     "output_type": "execute_result"
    }
   ],
   "source": [
    "url = 'https://terra.snellman.net/data/stats.json'\n",
    "statsdata = pd.read_json(url)\n",
    "statsdata.head()"
   ]
  },
  {
   "cell_type": "code",
   "execution_count": 16,
   "metadata": {},
   "outputs": [
    {
     "name": "stdout",
     "output_type": "stream",
     "text": [
      "{'final_scoring': 'expansion', 'map': 'be8f6ebf549404d015547152d5f2a1906ae8dd90', 'player_count': 3, 'min_rating': 0, 'faction': 'icemaidens', 'start_position': 'middle'}\n",
      "{'average_winner_vp': 1399, 'expected_wins': 3, 'high_score': {'game': 'HyperionXII', 'vp': 173, 'time': '2017-11-19 05:30:01', 'player': 'drinkperrier'}, 'average_margin': 99, 'count': 9, 'wins': 4.5, 'average_position': 16, 'average_vp': 1284}\n"
     ]
    }
   ],
   "source": [
    "print(statsdata.iloc[0][0])\n",
    "print(statsdata.iloc[0][1])"
   ]
  },
  {
   "cell_type": "markdown",
   "metadata": {},
   "source": [
    "FFS SO WHERE IS THE VP FOR EACH FACTION!!"
   ]
  },
  {
   "cell_type": "code",
   "execution_count": 20,
   "metadata": {},
   "outputs": [
    {
     "name": "stdout",
     "output_type": "stream",
     "text": [
      "1\n"
     ]
    },
    {
     "data": {
      "text/html": [
       "<div>\n",
       "<style scoped>\n",
       "    .dataframe tbody tr th:only-of-type {\n",
       "        vertical-align: middle;\n",
       "    }\n",
       "\n",
       "    .dataframe tbody tr th {\n",
       "        vertical-align: top;\n",
       "    }\n",
       "\n",
       "    .dataframe thead th {\n",
       "        text-align: right;\n",
       "    }\n",
       "</style>\n",
       "<table border=\"1\" class=\"dataframe\">\n",
       "  <thead>\n",
       "    <tr style=\"text-align: right;\">\n",
       "      <th></th>\n",
       "      <th>last_update</th>\n",
       "      <th>events</th>\n",
       "      <th>player_count</th>\n",
       "      <th>factions</th>\n",
       "      <th>base_map</th>\n",
       "      <th>game</th>\n",
       "    </tr>\n",
       "  </thead>\n",
       "  <tbody>\n",
       "    <tr>\n",
       "      <th>0</th>\n",
       "      <td>2013-02-10 02:40:12</td>\n",
       "      <td>{'global': {'faction-count': {'round': {'all':...</td>\n",
       "      <td>3</td>\n",
       "      <td>[{'player': None, 'faction': 'darklings'}, {'p...</td>\n",
       "      <td>126fe960806d587c78546b30f1a90853b1ada468</td>\n",
       "      <td>pbc3</td>\n",
       "    </tr>\n",
       "  </tbody>\n",
       "</table>\n",
       "</div>"
      ],
      "text/plain": [
       "           last_update                                             events  \\\n",
       "0  2013-02-10 02:40:12  {'global': {'faction-count': {'round': {'all':...   \n",
       "\n",
       "   player_count                                           factions  \\\n",
       "0             3  [{'player': None, 'faction': 'darklings'}, {'p...   \n",
       "\n",
       "                                   base_map  game  \n",
       "0  126fe960806d587c78546b30f1a90853b1ada468  pbc3  "
      ]
     },
     "execution_count": 20,
     "metadata": {},
     "output_type": "execute_result"
    }
   ],
   "source": [
    "url = 'https://terra.snellman.net/data/events/2013-02.json'\n",
    "eventsdata1 = pd.read_json(url)\n",
    "print(len(eventsdata1))\n",
    "eventsdata1.head()"
   ]
  },
  {
   "cell_type": "code",
   "execution_count": 33,
   "metadata": {},
   "outputs": [
    {
     "name": "stdout",
     "output_type": "stream",
     "text": [
      "<class 'dict'>\n"
     ]
    },
    {
     "data": {
      "text/html": [
       "<div>\n",
       "<style scoped>\n",
       "    .dataframe tbody tr th:only-of-type {\n",
       "        vertical-align: middle;\n",
       "    }\n",
       "\n",
       "    .dataframe tbody tr th {\n",
       "        vertical-align: top;\n",
       "    }\n",
       "\n",
       "    .dataframe thead th {\n",
       "        text-align: right;\n",
       "    }\n",
       "</style>\n",
       "<table border=\"1\" class=\"dataframe\">\n",
       "  <thead>\n",
       "    <tr style=\"text-align: right;\">\n",
       "      <th></th>\n",
       "      <th>global</th>\n",
       "      <th>location</th>\n",
       "      <th>faction</th>\n",
       "    </tr>\n",
       "  </thead>\n",
       "  <tbody>\n",
       "    <tr>\n",
       "      <th>faction-count</th>\n",
       "      <td>{'round': {'all': 3, '0': 3}}</td>\n",
       "      <td>NaN</td>\n",
       "      <td>NaN</td>\n",
       "    </tr>\n",
       "    <tr>\n",
       "      <th>SCORE5</th>\n",
       "      <td>{'round': {'all': 1, '3': 1}}</td>\n",
       "      <td>NaN</td>\n",
       "      <td>NaN</td>\n",
       "    </tr>\n",
       "    <tr>\n",
       "      <th>SCORE4</th>\n",
       "      <td>{'round': {'6': 1, 'all': 1}}</td>\n",
       "      <td>NaN</td>\n",
       "      <td>NaN</td>\n",
       "    </tr>\n",
       "    <tr>\n",
       "      <th>SCORE7</th>\n",
       "      <td>{'round': {'all': 1, '5': 1}}</td>\n",
       "      <td>NaN</td>\n",
       "      <td>NaN</td>\n",
       "    </tr>\n",
       "    <tr>\n",
       "      <th>SCORE1</th>\n",
       "      <td>{'round': {'all': 1, '1': 1}}</td>\n",
       "      <td>NaN</td>\n",
       "      <td>NaN</td>\n",
       "    </tr>\n",
       "  </tbody>\n",
       "</table>\n",
       "</div>"
      ],
      "text/plain": [
       "                                      global location faction\n",
       "faction-count  {'round': {'all': 3, '0': 3}}      NaN     NaN\n",
       "SCORE5         {'round': {'all': 1, '3': 1}}      NaN     NaN\n",
       "SCORE4         {'round': {'6': 1, 'all': 1}}      NaN     NaN\n",
       "SCORE7         {'round': {'all': 1, '5': 1}}      NaN     NaN\n",
       "SCORE1         {'round': {'all': 1, '1': 1}}      NaN     NaN"
      ]
     },
     "execution_count": 33,
     "metadata": {},
     "output_type": "execute_result"
    }
   ],
   "source": [
    "allevents1 = eventsdata1['events'][0]\n",
    "print(type(allevents1))\n",
    "allevents1 = pd.DataFrame.from_dict(allevents1)\n",
    "allevents1.head()"
   ]
  },
  {
   "cell_type": "code",
   "execution_count": 26,
   "metadata": {},
   "outputs": [
    {
     "name": "stdout",
     "output_type": "stream",
     "text": [
      "{'global': {'faction-count': {'round': {'all': 3, '0': 3}}, 'SCORE5': {'round': {'all': 1, '3': 1}}, 'SCORE4': {'round': {'6': 1, 'all': 1}}, 'SCORE7': {'round': {'all': 1, '5': 1}}, 'SCORE1': {'round': {'all': 1, '1': 1}}, 'SCORE8': {'round': {'all': 1, '2': 1}}, 'SCORE2': {'round': {'all': 1, '4': 1}}}, 'location': {'halflings': {'round': {'6': ['H2', 'D3', 'I4', 'H1'], 'all': ['F7', 'E6', 'G7', 'E10', 'D8', 'E5', 'F3', 'E4', 'G1', 'H3', 'H2', 'D3', 'I4', 'H1'], '5': ['G1', 'H3'], '1': ['G7', 'E10', 'D8'], '0': ['F7', 'E6'], '4': ['E4'], '3': ['E5', 'F3']}}, 'dwarves': {'round': {'6': ['C2', 'C4'], 'all': ['F6', 'E7', 'E9', 'D7', 'F4', 'D4', 'G2', 'C5', 'H6', 'I9', 'H8', 'G3', 'C2', 'C4'], '5': ['G3'], '2': ['F4', 'D4'], '3': ['G2', 'C5', 'H6'], '1': ['E9', 'D7'], '0': ['F6', 'E7'], '4': ['I9', 'H8']}}, 'darklings': {'round': {'6': ['B4'], 'all': ['G5', 'B3', 'G6', 'F5', 'B2', 'A4', 'H7', 'I10', 'C1', 'D2', 'E3', 'A7', 'A8', 'B4'], '0': ['G5', 'B3'], '1': ['G6', 'F5'], '5': ['E3', 'A7', 'A8'], '3': ['B2', 'A4', 'H7'], '4': ['I10', 'C1', 'D2']}}}, 'faction': {'halflings': {'upgrade:SH': {'turn': {'6': {'2': 1}}, 'round': {'6': 1, 'all': 1}}, 'advance:ship': {'turn': {'5': {'1': 1}}, 'round': {'all': 1, '5': 1}}, 'vp': {'turn': {'6': {'6': 2, '9': 29, '3': 2, '2': 8, '4': 10, '8': 12}, '1': {'6': 0, '1': 0, '5': 2, '2': 5, '4': 2}, '0': {'0': 20}, '5': {'1': 2, '5': 6, '2': 5, '3': 2, '4': 1}, '2': {'7': 1, '5': -1, '4': 3, '2': 3, '3': 11}, '3': {'1': 5, '2': 4, '3': 6}, '4': {'9': 0, '5': -1, '1': 12, '4': 4, '3': 4, '2': -2}}, 'round': {'6': 63, 'all': 157, '5': 16, '3': 15, '2': 17, '0': 20, '1': 9, '4': 17}}, 'order:2': {'turn': {'3': {'1': 1}, '2': {'1': 1}}, 'round': {'all': 2, '2': 1, '3': 1}}, 'upgrade:TP': {'turn': {'6': {'7': 1, '5': 1}, '1': {'1': 1}, '2': {'2': 1, '3': 1, '4': 1}}, 'round': {'6': 2, 'all': 6, '1': 1, '2': 3}}, 'order:1': {'turn': {'5': {'1': 1}, '4': {'1': 1}}, 'round': {'all': 2, '5': 1, '4': 1}}, 'favor:FAV11': {'turn': {'1': {'3': 1}}, 'round': {'all': 1, '1': 1}}, 'action:BON2': {'turn': {'2': {'4': 1}}, 'round': {'all': 1, '2': 1}}, 'action:ACT4': {'turn': {'6': {'1': 1}, '5': {'1': 1}}, 'round': {'6': 1, 'all': 2, '5': 1}}, 'pass:BON2': {'turn': {'1': {'6': 1}}, 'round': {'all': 1, '1': 1}}, 'town:TW2': {'turn': {'6': {'4': 1, '8': 1}}, 'round': {'6': 2, 'all': 2}}, 'action:ACT6': {'turn': {'1': {'2': 1}}, 'round': {'all': 1, '1': 1}}, 'advance:dig': {'turn': {'4': {'1': 2}}, 'round': {'all': 2, '4': 2}}, 'decline:pw': {'turn': {'6': {'7': 4, '1': 4}, '5': {'2': 8}, '4': {'4': 3}, '2': {'7': 4}}, 'round': {'6': 8, 'all': 23, '5': 8, '4': 3, '2': 4}}, 'pass:BON6': {'turn': {'0': {'0': 1}, '5': {'5': 1}}, 'round': {'all': 2, '5': 1, '0': 1}}, 'decline:count': {'turn': {'6': {'7': 1, '1': 1}, '5': {'2': 2}, '2': {'7': 2}, '4': {'4': 1}}, 'round': {'6': 2, 'all': 7, '5': 2, '4': 1, '2': 2}}, 'action:ACT5': {'turn': {'3': {'1': 1}}, 'round': {'all': 1, '3': 1}}, 'dig': {'turn': {'6': {'8': 3, '4': 1}, '5': {'4': 1, '2': 3}, '4': {'3': 2}}, 'round': {'6': 4, 'all': 10, '5': 4, '4': 2}}, 'leech:pw': {'turn': {'5': {'4': 1, '3': 1}, '1': {'1': 2, '5': 1, '2': 2}, '4': {'9': 2, '5': 2, '2': 3}, '2': {'5': 2, '2': 1}}, 'round': {'all': 17, '1': 5, '5': 2, '2': 3, '4': 7}}, 'town:any': {'turn': {'6': {'8': 1, '4': 1}, '2': {'3': 1}}, 'round': {'6': 2, 'all': 3, '2': 1}}, 'pass:BON9': {'turn': {'3': {'3': 1}}, 'round': {'all': 1, '3': 1}}, 'leech:count': {'turn': {'5': {'3': 1, '4': 1}, '1': {'1': 2, '5': 1, '2': 1}, '4': {'9': 1, '5': 1, '2': 1}, '2': {'5': 1, '2': 1}}, 'round': {'all': 11, '5': 2, '1': 4, '4': 3, '2': 2}}, 'order:3': {'turn': {'6': {'1': 1}, '1': {'1': 1}}, 'round': {'6': 1, 'all': 2, '1': 1}}, 'upgrade:TE': {'turn': {'1': {'3': 1}}, 'round': {'all': 1, '1': 1}}, 'town:TW5': {'turn': {'2': {'3': 1}}, 'round': {'all': 1, '2': 1}}, 'pass:BON7': {'turn': {'4': {'4': 1}, '2': {'5': 1}}, 'round': {'all': 2, '4': 1, '2': 1}}, 'favor:any': {'turn': {'1': {'3': 1}}, 'round': {'all': 1, '1': 1}}, 'build:D': {'turn': {'6': {'6': 1, '8': 1, '4': 1, '3': 1}, '5': {'3': 1, '2': 1}, '0': {'0': 2}, '1': {'5': 1, '2': 1, '4': 1}, '4': {'3': 1}, '3': {'1': 1, '2': 1}}, 'round': {'6': 4, 'all': 14, '0': 2, '1': 3, '5': 2, '3': 2, '4': 1}}, 'burn': {'turn': {'6': {'1': 2}, '1': {'2': 5}, '2': {'4': 1}}, 'round': {'6': 2, 'all': 8, '1': 5, '2': 1}}, 'action:ACT3': {'turn': {'4': {'2': 1}}, 'round': {'all': 1, '4': 1}}}, 'all': {'upgrade:SH': {'turn': {'6': {'1': 1, '2': 1}, '2': {'6': 1}}, 'round': {'6': 2, 'all': 3, '2': 1}}, 'vp': {'turn': {'6': {'6': 6, '7': 9, '2': 11, '3': 14, '9': 94, '1': 10, '8': 12, '4': 14}, '5': {'6': 2, '7': 8, '1': 2, '5': 19, '3': 12, '2': 10, '4': 12}, '1': {'6': 0, '1': 2, '5': 6, '2': 8, '3': 0, '4': 1}, '0': {'0': 60}, '4': {'7': 6, '5': 12, '2': 0, '3': 6, '9': -1, '1': 30, '8': 6, '4': 21}, '3': {'1': 15, '4': 6, '2': 13, '3': 12}, '2': {'6': 2, '7': 5, '5': 0, '1': 1, '4': 3, '3': 13, '2': 1}}, 'round': {'6': 170, 'all': 463, '5': 65, '3': 46, '2': 25, '1': 17, '0': 60, '4': 80}}, 'action:BON2': {'turn': {'4': {'5': 1}, '2': {'4': 1}}, 'round': {'all': 2, '2': 1, '4': 1}}, 'action:ACT4': {'turn': {'6': {'1': 1}, '5': {'1': 1}, '1': {'5': 1}, '4': {'1': 1}, '3': {'1': 1}}, 'round': {'6': 1, 'all': 5, '1': 1, '5': 1, '3': 1, '4': 1}}, 'pass:BON2': {'turn': {'1': {'6': 1}, '3': {'5': 1}}, 'round': {'all': 2, '1': 1, '3': 1}}, 'town:TW1': {'turn': {'5': {'4': 1}}, 'round': {'all': 1, '5': 1}}, 'town:TW2': {'turn': {'6': {'8': 1, '4': 1}}, 'round': {'6': 2, 'all': 2}}, 'action:ACT2': {'turn': {'6': {'5': 1}}, 'round': {'6': 1, 'all': 1}}, 'advance:dig': {'turn': {'4': {'1': 2}}, 'round': {'all': 2, '4': 2}}, 'decline:pw': {'turn': {'6': {'7': 4, '1': 6, '2': 4}, '5': {'2': 16}, '2': {'7': 4}, '4': {'4': 3}}, 'round': {'6': 14, 'all': 37, '5': 16, '4': 3, '2': 4}}, 'favor:FAV4': {'turn': {'6': {'6': 1}}, 'round': {'6': 1, 'all': 1}}, 'action:BON1': {'turn': {'6': {'2': 1}, '1': {'2': 1}, '3': {'1': 1}}, 'round': {'6': 1, 'all': 3, '1': 1, '3': 1}}, 'pass:BON9': {'turn': {'1': {'6': 1}, '4': {'5': 1}, '3': {'3': 1}}, 'round': {'all': 3, '1': 1, '4': 1, '3': 1}}, 'leech:count': {'turn': {'6': {'1': 1, '2': 1, '4': 2}, '1': {'5': 3, '1': 6, '4': 2, '3': 3, '2': 3}, '5': {'6': 1, '3': 1, '4': 1}, '3': {'2': 1, '4': 1}, '2': {'1': 1, '5': 2, '3': 1, '2': 3}, '4': {'9': 2, '5': 2, '1': 1, '2': 1}}, 'round': {'6': 4, 'all': 39, '5': 3, '1': 17, '4': 6, '3': 2, '2': 7}}, 'action:ACT1': {'turn': {'5': {'1': 1}}, 'round': {'all': 1, '5': 1}}, 'favor:any': {'turn': {'6': {'6': 1}, '5': {'2': 1}, '1': {'1': 1, '3': 1, '4': 1}, '2': {'1': 1}}, 'round': {'6': 1, 'all': 6, '1': 3, '5': 1, '2': 1}}, 'pass:BON1': {'turn': {'5': {'5': 1}, '0': {'0': 1}, '2': {'7': 1}}, 'round': {'all': 3, '0': 1, '5': 1, '2': 1}}, 'burn': {'turn': {'6': {'6': 1, '9': 1, '1': 2, '4': 1}, '5': {'6': 1, '3': 1}, '1': {'2': 9}, '2': {'1': 3, '4': 4}, '3': {'1': 3}}, 'round': {'6': 5, 'all': 26, '1': 9, '5': 2, '3': 3, '2': 7}}, 'town:TW3': {'turn': {'4': {'1': 1, '5': 1}}, 'round': {'all': 2, '4': 2}}, 'advance:ship': {'turn': {'5': {'1': 1}, '4': {'2': 1}}, 'round': {'all': 2, '5': 1, '4': 1}}, 'order:1': {'turn': {'6': {'1': 1}, '5': {'1': 1}, '1': {'1': 1}, '4': {'1': 1}, '3': {'1': 1}, '2': {'1': 1}}, 'round': {'6': 1, 'all': 6, '1': 1, '5': 1, '2': 1, '3': 1, '4': 1}}, 'order:2': {'turn': {'6': {'1': 1}, '5': {'1': 1}, '1': {'1': 1}, '4': {'1': 1}, '2': {'1': 1}, '3': {'1': 1}}, 'round': {'6': 1, 'all': 6, '1': 1, '5': 1, '3': 1, '2': 1, '4': 1}}, 'upgrade:TP': {'turn': {'6': {'7': 1, '5': 1, '1': 1, '2': 1}, '5': {'6': 1, '2': 1, '4': 1}, '1': {'1': 2, '3': 1}, '4': {'5': 1, '4': 1, '2': 1}, '2': {'1': 1, '3': 1, '2': 2, '4': 1}}, 'round': {'6': 4, 'all': 18, '1': 3, '5': 3, '2': 5, '4': 3}}, 'favor:FAV11': {'turn': {'1': {'1': 1, '3': 1, '4': 1}}, 'round': {'all': 3, '1': 3}}, 'action:ACT6': {'turn': {'1': {'2': 1}, '2': {'4': 1}}, 'round': {'all': 2, '1': 1, '2': 1}}, 'bridge': {'turn': {'5': {'1': 1}}, 'round': {'all': 1, '5': 1}}, 'pass:BON8': {'turn': {'0': {'0': 1}, '2': {'3': 1}}, 'round': {'all': 2, '0': 1, '2': 1}}, 'decline:count': {'turn': {'6': {'7': 1, '1': 2, '2': 2}, '5': {'2': 4}, '4': {'4': 1}, '2': {'7': 2}}, 'round': {'6': 5, 'all': 12, '5': 4, '4': 1, '2': 2}}, 'pass:BON6': {'turn': {'1': {'6': 1}, '0': {'0': 1}, '5': {'5': 1}, '3': {'4': 1}, '4': {'9': 1}}, 'round': {'all': 5, '1': 1, '0': 1, '5': 1, '3': 1, '4': 1}}, 'action:ACT5': {'turn': {'6': {'4': 1}, '5': {'3': 1}, '1': {'3': 1}, '3': {'1': 1}}, 'round': {'6': 1, 'all': 4, '5': 1, '1': 1, '3': 1}}, 'dig': {'turn': {'6': {'6': 2, '3': 2, '8': 3, '4': 1}, '5': {'4': 1, '3': 2, '2': 3}, '1': {'1': 1, '5': 1}, '4': {'1': 1, '3': 2, '4': 1}, '3': {'1': 1, '3': 1, '2': 1}}, 'round': {'6': 8, 'all': 23, '5': 6, '1': 2, '4': 4, '3': 3}}, 'favor:FAV12': {'turn': {'5': {'2': 1}}, 'round': {'all': 1, '5': 1}}, 'leech:pw': {'turn': {'6': {'1': 2, '2': 2, '4': 2}, '1': {'1': 8, '5': 5, '3': 5, '2': 5, '4': 5}, '5': {'6': 1, '4': 1, '3': 1}, '3': {'2': 2, '4': 3}, '2': {'5': 4, '1': 3, '3': 1, '2': 8}, '4': {'9': 4, '1': 1, '5': 4, '2': 3}}, 'round': {'6': 6, 'all': 70, '5': 3, '1': 28, '4': 12, '2': 16, '3': 5}}, 'town:any': {'turn': {'6': {'8': 1, '4': 1}, '5': {'4': 1}, '4': {'5': 1, '1': 1, '4': 1}, '2': {'3': 1}}, 'round': {'6': 2, 'all': 7, '5': 1, '2': 1, '4': 3}}, 'upgrade:TE': {'turn': {'6': {'6': 1}, '1': {'1': 1, '4': 1, '3': 1}, '2': {'1': 1}}, 'round': {'6': 1, 'all': 5, '1': 3, '2': 1}}, 'order:3': {'turn': {'6': {'1': 1}, '5': {'1': 1}, '1': {'1': 1}, '4': {'1': 1}, '3': {'1': 1}, '2': {'1': 1}}, 'round': {'6': 1, 'all': 6, '1': 1, '5': 1, '3': 1, '2': 1, '4': 1}}, 'town:TW5': {'turn': {'2': {'3': 1}, '4': {'4': 1}}, 'round': {'all': 2, '2': 1, '4': 1}}, 'pass:BON7': {'turn': {'5': {'7': 1}, '4': {'4': 1}, '2': {'5': 1}}, 'round': {'all': 3, '5': 1, '4': 1, '2': 1}}, 'upgrade:SA': {'turn': {'5': {'2': 1}}, 'round': {'all': 1, '5': 1}}, 'build:D': {'turn': {'6': {'6': 1, '1': 1, '4': 1, '8': 1, '3': 3}, '0': {'0': 6}, '1': {'1': 1, '5': 2, '2': 2, '4': 2}, '5': {'6': 1, '5': 1, '4': 1, '2': 1, '3': 2}, '3': {'1': 3, '4': 1, '3': 1, '2': 3}, '2': {'6': 1, '5': 1}, '4': {'7': 1, '1': 1, '4': 1, '8': 1, '3': 2}}, 'round': {'6': 7, 'all': 42, '5': 6, '2': 2, '3': 8, '0': 6, '1': 7, '4': 6}}, 'favor:FAV9': {'turn': {'2': {'1': 1}}, 'round': {'all': 1, '2': 1}}, 'action:ACT3': {'turn': {'1': {'2': 1}, '2': {'1': 1}, '4': {'2': 1}}, 'round': {'all': 3, '1': 1, '4': 1, '2': 1}}}, 'dwarves': {'upgrade:SH': {'turn': {'2': {'6': 1}}, 'round': {'all': 1, '2': 1}}, 'vp': {'turn': {'6': {'7': 3, '9': 45, '1': 6, '4': 4, '2': 4, '3': 6}, '5': {'6': 0, '5': 11, '4': 6, '3': 4, '2': 5}, '1': {'1': -2, '5': -2, '2': 4, '3': 0, '4': -1}, '0': {'0': 20}, '4': {'7': 6, '1': 0, '5': 14, '8': 6, '4': 13}, '2': {'6': 2, '7': 4, '1': -2, '5': 1, '2': -2}, '3': {'1': 4, '4': 8, '2': 3}}, 'round': {'6': 68, 'all': 170, '5': 26, '3': 15, '2': 3, '0': 20, '1': -1, '4': 39}}, 'order:2': {'turn': {'5': {'1': 1}, '4': {'1': 1}}, 'round': {'all': 2, '5': 1, '4': 1}}, 'upgrade:TP': {'turn': {'6': {'1': 1}, '1': {'1': 1}, '2': {'2': 1}, '4': {'5': 1, '4': 1, '2': 1}}, 'round': {'6': 1, 'all': 6, '1': 1, '2': 1, '4': 3}}, 'order:1': {'turn': {'6': {'1': 1}, '1': {'1': 1}}, 'round': {'6': 1, 'all': 2, '1': 1}}, 'favor:FAV11': {'turn': {'1': {'1': 1}}, 'round': {'all': 1, '1': 1}}, 'action:BON2': {'turn': {'4': {'5': 1}}, 'round': {'all': 1, '4': 1}}, 'action:ACT4': {'turn': {'1': {'5': 1}, '4': {'1': 1}}, 'round': {'all': 2, '1': 1, '4': 1}}, 'pass:BON2': {'turn': {'3': {'5': 1}}, 'round': {'all': 1, '3': 1}}, 'action:ACT6': {'turn': {'2': {'4': 1}}, 'round': {'all': 1, '2': 1}}, 'decline:pw': {'turn': {'6': {'1': 2, '2': 4}, '5': {'2': 3}}, 'round': {'6': 6, 'all': 9, '5': 3}}, 'pass:BON6': {'turn': {'1': {'6': 1}, '4': {'9': 1}}, 'round': {'all': 2, '1': 1, '4': 1}}, 'decline:count': {'turn': {'6': {'1': 1, '2': 2}, '5': {'2': 1}}, 'round': {'6': 3, 'all': 4, '5': 1}}, 'favor:FAV4': {'turn': {'6': {'6': 1}}, 'round': {'6': 1, 'all': 1}}, 'action:ACT5': {'turn': {'6': {'4': 1}, '5': {'3': 1}, '1': {'3': 1}}, 'round': {'6': 1, 'all': 3, '5': 1, '1': 1}}, 'favor:FAV12': {'turn': {'5': {'2': 1}}, 'round': {'all': 1, '5': 1}}, 'leech:pw': {'turn': {'1': {'5': 4, '1': 4, '4': 5, '3': 4}, '5': {'6': 1}, '2': {'1': 3, '5': 2, '2': 7}, '3': {'2': 2}, '4': {'1': 1}}, 'round': {'all': 33, '1': 17, '5': 1, '3': 2, '2': 12, '4': 1}}, 'action:BON1': {'turn': {'6': {'2': 1}, '1': {'2': 1}, '3': {'1': 1}}, 'round': {'6': 1, 'all': 3, '1': 1, '3': 1}}, 'town:any': {'turn': {'4': {'5': 1, '4': 1}}, 'round': {'all': 2, '4': 2}}, 'leech:count': {'turn': {'1': {'1': 2, '5': 2, '3': 2, '4': 2}, '5': {'6': 1}, '3': {'2': 1}, '2': {'5': 1, '1': 1, '2': 2}, '4': {'1': 1}}, 'round': {'all': 15, '1': 8, '5': 1, '2': 4, '3': 1, '4': 1}}, 'order:3': {'turn': {'3': {'1': 1}, '2': {'1': 1}}, 'round': {'all': 2, '2': 1, '3': 1}}, 'upgrade:TE': {'turn': {'6': {'6': 1}, '1': {'1': 1}}, 'round': {'6': 1, 'all': 2, '1': 1}}, 'town:TW5': {'turn': {'4': {'4': 1}}, 'round': {'all': 1, '4': 1}}, 'upgrade:SA': {'turn': {'5': {'2': 1}}, 'round': {'all': 1, '5': 1}}, 'pass:BON1': {'turn': {'5': {'5': 1}, '0': {'0': 1}, '2': {'7': 1}}, 'round': {'all': 3, '0': 1, '5': 1, '2': 1}}, 'favor:any': {'turn': {'6': {'6': 1}, '1': {'1': 1}, '5': {'2': 1}}, 'round': {'6': 1, 'all': 3, '5': 1, '1': 1}}, 'build:D': {'turn': {'6': {'1': 1, '3': 1}, '5': {'4': 1}, '1': {'4': 1, '2': 1}, '0': {'0': 2}, '4': {'7': 1, '8': 1}, '2': {'6': 1, '5': 1}, '3': {'1': 1, '4': 1, '2': 1}}, 'round': {'6': 2, 'all': 14, '5': 1, '3': 3, '2': 2, '0': 2, '1': 2, '4': 2}}, 'town:TW3': {'turn': {'4': {'5': 1}}, 'round': {'all': 1, '4': 1}}, 'burn': {'turn': {'6': {'6': 1, '9': 1, '4': 1}, '5': {'3': 1}, '2': {'1': 3, '4': 3}}, 'round': {'6': 3, 'all': 10, '5': 1, '2': 6}}, 'action:ACT3': {'turn': {'2': {'1': 1}}, 'round': {'all': 1, '2': 1}}}, 'darklings': {'upgrade:SH': {'turn': {'6': {'1': 1}}, 'round': {'6': 1, 'all': 1}}, 'advance:ship': {'turn': {'4': {'2': 1}}, 'round': {'all': 1, '4': 1}}, 'order:2': {'turn': {'6': {'1': 1}, '1': {'1': 1}}, 'round': {'6': 1, 'all': 2, '1': 1}}, 'vp': {'turn': {'6': {'6': 4, '7': 6, '9': 20, '1': 4, '3': 6, '2': -1, '4': 0}, '5': {'6': 2, '7': 8, '5': 2, '4': 5, '3': 6}, '0': {'0': 20}, '1': {'1': 4, '5': 6, '2': -1, '3': 0}, '4': {'9': -1, '1': 18, '5': -1, '2': 2, '3': 2, '4': 4}, '2': {'1': 3, '3': 2}, '3': {'1': 6, '3': 6, '2': 6, '4': -2}}, 'round': {'6': 39, 'all': 136, '5': 23, '3': 16, '2': 5, '0': 20, '1': 9, '4': 24}}, 'order:1': {'turn': {'2': {'1': 1}, '3': {'1': 1}}, 'round': {'all': 2, '2': 1, '3': 1}}, 'upgrade:TP': {'turn': {'6': {'2': 1}, '1': {'3': 1}, '5': {'6': 1, '4': 1, '2': 1}, '2': {'1': 1}}, 'round': {'6': 1, 'all': 6, '1': 1, '5': 3, '2': 1}}, 'favor:FAV11': {'turn': {'1': {'4': 1}}, 'round': {'all': 1, '1': 1}}, 'action:ACT4': {'turn': {'3': {'1': 1}}, 'round': {'all': 1, '3': 1}}, 'town:TW1': {'turn': {'5': {'4': 1}}, 'round': {'all': 1, '5': 1}}, 'action:ACT2': {'turn': {'6': {'5': 1}}, 'round': {'6': 1, 'all': 1}}, 'bridge': {'turn': {'5': {'1': 1}}, 'round': {'all': 1, '5': 1}}, 'decline:pw': {'turn': {'5': {'2': 5}}, 'round': {'all': 5, '5': 5}}, 'pass:BON8': {'turn': {'0': {'0': 1}, '2': {'3': 1}}, 'round': {'all': 2, '0': 1, '2': 1}}, 'decline:count': {'turn': {'5': {'2': 1}}, 'round': {'all': 1, '5': 1}}, 'pass:BON6': {'turn': {'3': {'4': 1}}, 'round': {'all': 1, '3': 1}}, 'dig': {'turn': {'6': {'6': 2, '3': 2}, '1': {'1': 1, '5': 1}, '5': {'3': 2}, '3': {'1': 1, '2': 1, '3': 1}, '4': {'1': 1, '4': 1}}, 'round': {'6': 4, 'all': 13, '1': 2, '5': 2, '3': 3, '4': 2}}, 'leech:pw': {'turn': {'6': {'1': 2, '4': 2, '2': 2}, '1': {'1': 2, '2': 3, '3': 1}, '4': {'9': 2, '5': 2}, '3': {'4': 3}, '2': {'3': 1}}, 'round': {'6': 6, 'all': 20, '1': 6, '2': 1, '3': 3, '4': 4}}, 'town:any': {'turn': {'5': {'4': 1}, '4': {'1': 1}}, 'round': {'all': 2, '5': 1, '4': 1}}, 'pass:BON9': {'turn': {'1': {'6': 1}, '4': {'5': 1}}, 'round': {'all': 2, '1': 1, '4': 1}}, 'leech:count': {'turn': {'6': {'1': 1, '4': 2, '2': 1}, '1': {'1': 2, '3': 1, '2': 2}, '3': {'4': 1}, '2': {'3': 1}, '4': {'9': 1, '5': 1}}, 'round': {'6': 4, 'all': 13, '1': 5, '4': 2, '3': 1, '2': 1}}, 'upgrade:TE': {'turn': {'1': {'4': 1}, '2': {'1': 1}}, 'round': {'all': 2, '1': 1, '2': 1}}, 'order:3': {'turn': {'5': {'1': 1}, '4': {'1': 1}}, 'round': {'all': 2, '5': 1, '4': 1}}, 'action:ACT1': {'turn': {'5': {'1': 1}}, 'round': {'all': 1, '5': 1}}, 'pass:BON7': {'turn': {'5': {'7': 1}}, 'round': {'all': 1, '5': 1}}, 'favor:any': {'turn': {'1': {'4': 1}, '2': {'1': 1}}, 'round': {'all': 2, '1': 1, '2': 1}}, 'burn': {'turn': {'5': {'6': 1}, '1': {'2': 4}, '3': {'1': 3}}, 'round': {'all': 8, '5': 1, '1': 4, '3': 3}}, 'town:TW3': {'turn': {'4': {'1': 1}}, 'round': {'all': 1, '4': 1}}, 'build:D': {'turn': {'6': {'3': 1}, '5': {'6': 1, '5': 1, '3': 1}, '0': {'0': 2}, '1': {'1': 1, '5': 1}, '4': {'1': 1, '4': 1, '3': 1}, '3': {'1': 1, '3': 1, '2': 1}}, 'round': {'6': 1, 'all': 14, '0': 2, '1': 2, '5': 3, '3': 3, '4': 3}}, 'action:ACT3': {'turn': {'1': {'2': 1}}, 'round': {'all': 1, '1': 1}}, 'favor:FAV9': {'turn': {'2': {'1': 1}}, 'round': {'all': 1, '2': 1}}}}}\n"
     ]
    }
   ],
   "source": [
    "print(allevents1)"
   ]
  },
  {
   "cell_type": "code",
   "execution_count": null,
   "metadata": {},
   "outputs": [],
   "source": []
  }
 ],
 "metadata": {
  "kernelspec": {
   "display_name": "Python 3",
   "language": "python",
   "name": "python3"
  },
  "language_info": {
   "codemirror_mode": {
    "name": "ipython",
    "version": 3
   },
   "file_extension": ".py",
   "mimetype": "text/x-python",
   "name": "python",
   "nbconvert_exporter": "python",
   "pygments_lexer": "ipython3",
   "version": "3.7.4"
  }
 },
 "nbformat": 4,
 "nbformat_minor": 4
}
