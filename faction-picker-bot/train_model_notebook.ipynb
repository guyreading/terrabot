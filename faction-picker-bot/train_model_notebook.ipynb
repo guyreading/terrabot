{
 "cells": [
  {
   "cell_type": "code",
   "execution_count": 1,
   "id": "3d683865-b1cc-4826-973b-f31eb87d15d6",
   "metadata": {},
   "outputs": [],
   "source": [
    "import yaml\n",
    "import pickle\n",
    "import pandas as pd\n",
    "import numpy as np\n",
    "import lightgbm as lgb\n",
    "import math\n"
   ]
  },
  {
   "cell_type": "code",
   "execution_count": 2,
   "id": "efc65ac4-fcbf-4fb7-8251-353017129972",
   "metadata": {},
   "outputs": [],
   "source": [
    "with open('..\\params.yaml', 'r') as fd:\n",
    "    params = yaml.safe_load(fd)"
   ]
  },
  {
   "cell_type": "code",
   "execution_count": 3,
   "id": "3a782515-f51f-4cbc-bb43-6ae00cb73a1f",
   "metadata": {},
   "outputs": [],
   "source": [
    "pickledir = params['prepare-step2']['pickle-dir']\n",
    "with open(pickledir, 'rb') as fd:\n",
    "    each_faction_dataset = pickle.load(fd)\n"
   ]
  },
  {
   "cell_type": "code",
   "execution_count": 4,
   "id": "828d229a-988f-46fa-a6c9-b1b4c79e0ac4",
   "metadata": {},
   "outputs": [],
   "source": [
    "feats = each_faction_dataset['auren']['features']"
   ]
  },
  {
   "cell_type": "code",
   "execution_count": 5,
   "id": "c48ee433-73ec-479c-a539-2bbd0ac28da1",
   "metadata": {},
   "outputs": [],
   "source": [
    "y_data = np.array(each_faction_dataset['auren']['vp'])"
   ]
  },
  {
   "cell_type": "code",
   "execution_count": 6,
   "id": "e49647c2-3e2c-4813-a439-211a31ad5547",
   "metadata": {},
   "outputs": [
    {
     "data": {
      "text/plain": [
       "numpy.ndarray"
      ]
     },
     "execution_count": 6,
     "metadata": {},
     "output_type": "execute_result"
    }
   ],
   "source": [
    "type(y_data)"
   ]
  },
  {
   "cell_type": "code",
   "execution_count": 7,
   "id": "58631132-ccb0-4b0d-91af-1c5ed98b15c1",
   "metadata": {},
   "outputs": [
    {
     "data": {
      "text/plain": [
       "(11610,)"
      ]
     },
     "execution_count": 7,
     "metadata": {},
     "output_type": "execute_result"
    }
   ],
   "source": [
    "y_data.shape"
   ]
  },
  {
   "cell_type": "code",
   "execution_count": 8,
   "id": "8eb2d842-f641-4154-b685-5140547461c2",
   "metadata": {},
   "outputs": [],
   "source": [
    "faction = 'swarmlings'"
   ]
  },
  {
   "cell_type": "code",
   "execution_count": 9,
   "id": "d1586415-2be1-4a00-acd8-7e29c6ac05db",
   "metadata": {},
   "outputs": [],
   "source": [
    "Xdata = each_faction_dataset[faction]['features']\n",
    "Xdata.drop(['Unnamed: 0', 'game'], axis=1)\n",
    "traindata = lgb.Dataset(Xdata,\n",
    "                        label=np.array(each_faction_dataset[faction]['vp']))"
   ]
  },
  {
   "cell_type": "code",
   "execution_count": 10,
   "id": "5071ec0c-8728-43a4-93aa-76584c6a397a",
   "metadata": {},
   "outputs": [
    {
     "data": {
      "text/plain": [
       "(27967, 71)"
      ]
     },
     "execution_count": 10,
     "metadata": {},
     "output_type": "execute_result"
    }
   ],
   "source": [
    "Xdata = each_faction_dataset[faction]['features']\n",
    "Xdata = Xdata.drop(['Unnamed: 0', 'game'], axis=1)\n",
    "Xdata.shape"
   ]
  },
  {
   "cell_type": "code",
   "execution_count": 11,
   "id": "de0efbdb-1e7b-4f45-b0c3-fab4f81a39cc",
   "metadata": {},
   "outputs": [
    {
     "data": {
      "text/plain": [
       "Index(['r1_SCORE1', 'r1_SCORE2', 'r1_SCORE3', 'r1_SCORE4', 'r1_SCORE5',\n",
       "       'r1_SCORE6', 'r1_SCORE7', 'r1_SCORE8', 'r1_SCORE9', 'r2_SCORE1',\n",
       "       'r2_SCORE2', 'r2_SCORE3', 'r2_SCORE4', 'r2_SCORE5', 'r2_SCORE6',\n",
       "       'r2_SCORE7', 'r2_SCORE8', 'r2_SCORE9', 'r3_SCORE1', 'r3_SCORE2',\n",
       "       'r3_SCORE3', 'r3_SCORE4', 'r3_SCORE5', 'r3_SCORE6', 'r3_SCORE7',\n",
       "       'r3_SCORE8', 'r3_SCORE9', 'r4_SCORE1', 'r4_SCORE2', 'r4_SCORE3',\n",
       "       'r4_SCORE4', 'r4_SCORE5', 'r4_SCORE6', 'r4_SCORE7', 'r4_SCORE8',\n",
       "       'r4_SCORE9', 'r5_SCORE1', 'r5_SCORE2', 'r5_SCORE3', 'r5_SCORE4',\n",
       "       'r5_SCORE5', 'r5_SCORE6', 'r5_SCORE7', 'r5_SCORE8', 'r5_SCORE9',\n",
       "       'r6_SCORE1', 'r6_SCORE2', 'r6_SCORE3', 'r6_SCORE4', 'r6_SCORE5',\n",
       "       'r6_SCORE6', 'r6_SCORE7', 'r6_SCORE8', 'r6_SCORE9', 'BON1', 'BON2',\n",
       "       'BON3', 'BON4', 'BON5', 'BON6', 'BON7', 'BON8', 'BON9', 'BON10',\n",
       "       '2players', '3players', '4players', '5players', 'map1', 'map2', 'map3'],\n",
       "      dtype='object')"
      ]
     },
     "execution_count": 11,
     "metadata": {},
     "output_type": "execute_result"
    }
   ],
   "source": [
    "Xdata.columns"
   ]
  },
  {
   "cell_type": "code",
   "execution_count": 50,
   "id": "f034dfae-048f-42df-b205-36a59619a79d",
   "metadata": {},
   "outputs": [
    {
     "name": "stdout",
     "output_type": "stream",
     "text": [
      "(22374, 71)\n",
      "(2797, 71)\n",
      "(2796, 71)\n"
     ]
    }
   ],
   "source": [
    "trainlen = math.ceil(Xdata.shape[0] * 0.8)\n",
    "vallen = math.ceil(Xdata.shape[0] * 0.9)\n",
    "traindata = Xdata.iloc[:trainlen, :]\n",
    "trainy = np.array(each_faction_dataset[faction]['vp'].iloc[:trainlen])\n",
    "valdata = Xdata.iloc[trainlen:vallen, :]\n",
    "valy = np.array(each_faction_dataset[faction]['vp'].iloc[trainlen:vallen])\n",
    "testdata = Xdata.iloc[vallen:, :]\n",
    "testy = np.array(each_faction_dataset[faction]['vp'].iloc[vallen:])\n",
    "print(traindata.shape)\n",
    "print(valdata.shape)\n",
    "print(testdata.shape)"
   ]
  },
  {
   "cell_type": "code",
   "execution_count": 23,
   "id": "256b798e-f97e-4cd9-89d9-d79ae19d4dd0",
   "metadata": {},
   "outputs": [],
   "source": [
    "test = each_faction_dataset[faction]['vp']"
   ]
  },
  {
   "cell_type": "code",
   "execution_count": 28,
   "id": "00137c27-404a-4d19-88d2-864b921daa7f",
   "metadata": {},
   "outputs": [
    {
     "data": {
      "text/plain": [
       "102.0"
      ]
     },
     "execution_count": 28,
     "metadata": {},
     "output_type": "execute_result"
    }
   ],
   "source": [
    "test.iloc[0]"
   ]
  },
  {
   "cell_type": "code",
   "execution_count": 30,
   "id": "2be0344e-fed9-4948-ad08-09a149e2879c",
   "metadata": {},
   "outputs": [],
   "source": [
    "traindataset = lgb.Dataset(traindata, label=trainy)\n",
    "valdataset = traindataset.create_valid(valdata, label=valy)"
   ]
  },
  {
   "cell_type": "code",
   "execution_count": 142,
   "id": "fe7a3155-d267-46f8-a43b-3f3118ae9603",
   "metadata": {},
   "outputs": [
    {
     "data": {
      "text/plain": [
       "27967"
      ]
     },
     "execution_count": 142,
     "metadata": {},
     "output_type": "execute_result"
    }
   ],
   "source": [
    "len(np.array(each_faction_dataset[faction]['vp']))"
   ]
  },
  {
   "cell_type": "code",
   "execution_count": 37,
   "id": "bda67caa-3cc5-45a4-bd49-0f741aaadbdc",
   "metadata": {},
   "outputs": [
    {
     "name": "stdout",
     "output_type": "stream",
     "text": [
      "[1]\tvalid_0's l1: 20.3545\tvalid_0's l2: 709.713\n",
      "Training until validation scores don't improve for 200 rounds\n",
      "[2]\tvalid_0's l1: 20.0793\tvalid_0's l2: 694.389\n",
      "[3]\tvalid_0's l1: 19.8555\tvalid_0's l2: 680.875\n",
      "[4]\tvalid_0's l1: 19.6851\tvalid_0's l2: 671.005\n",
      "[5]\tvalid_0's l1: 19.5541\tvalid_0's l2: 662.465\n",
      "[6]\tvalid_0's l1: 19.4446\tvalid_0's l2: 656.091\n",
      "[7]\tvalid_0's l1: 19.3503\tvalid_0's l2: 650.802\n",
      "[8]\tvalid_0's l1: 19.2779\tvalid_0's l2: 646.24\n",
      "[9]\tvalid_0's l1: 19.2079\tvalid_0's l2: 642.429\n",
      "[10]\tvalid_0's l1: 19.1416\tvalid_0's l2: 638.761\n",
      "[11]\tvalid_0's l1: 19.0993\tvalid_0's l2: 636.539\n",
      "[12]\tvalid_0's l1: 19.0643\tvalid_0's l2: 634.241\n",
      "[13]\tvalid_0's l1: 19.03\tvalid_0's l2: 631.979\n",
      "[14]\tvalid_0's l1: 19.0054\tvalid_0's l2: 630.312\n",
      "[15]\tvalid_0's l1: 18.9859\tvalid_0's l2: 628.386\n",
      "[16]\tvalid_0's l1: 18.972\tvalid_0's l2: 626.913\n",
      "[17]\tvalid_0's l1: 18.9714\tvalid_0's l2: 626.352\n",
      "[18]\tvalid_0's l1: 18.9608\tvalid_0's l2: 625.366\n",
      "[19]\tvalid_0's l1: 18.9581\tvalid_0's l2: 624.566\n",
      "[20]\tvalid_0's l1: 18.9491\tvalid_0's l2: 624.65\n",
      "[21]\tvalid_0's l1: 18.9425\tvalid_0's l2: 624.298\n",
      "[22]\tvalid_0's l1: 18.9504\tvalid_0's l2: 623.365\n",
      "[23]\tvalid_0's l1: 18.9389\tvalid_0's l2: 622.182\n",
      "[24]\tvalid_0's l1: 18.9337\tvalid_0's l2: 621.876\n",
      "[25]\tvalid_0's l1: 18.947\tvalid_0's l2: 622.36\n",
      "[26]\tvalid_0's l1: 18.9368\tvalid_0's l2: 622.221\n",
      "[27]\tvalid_0's l1: 18.942\tvalid_0's l2: 622.829\n",
      "[28]\tvalid_0's l1: 18.9361\tvalid_0's l2: 621.895\n",
      "[29]\tvalid_0's l1: 18.9554\tvalid_0's l2: 622.887\n",
      "[30]\tvalid_0's l1: 18.9681\tvalid_0's l2: 623.68\n",
      "[31]\tvalid_0's l1: 18.9703\tvalid_0's l2: 624.163\n",
      "[32]\tvalid_0's l1: 18.9744\tvalid_0's l2: 623.444\n",
      "[33]\tvalid_0's l1: 18.9795\tvalid_0's l2: 623.421\n",
      "[34]\tvalid_0's l1: 18.9972\tvalid_0's l2: 623.947\n",
      "[35]\tvalid_0's l1: 18.995\tvalid_0's l2: 623.622\n",
      "[36]\tvalid_0's l1: 19.0215\tvalid_0's l2: 624.365\n",
      "[37]\tvalid_0's l1: 19.0383\tvalid_0's l2: 625.362\n",
      "[38]\tvalid_0's l1: 19.0545\tvalid_0's l2: 626.503\n",
      "[39]\tvalid_0's l1: 19.0476\tvalid_0's l2: 626.647\n",
      "[40]\tvalid_0's l1: 19.0543\tvalid_0's l2: 627.084\n",
      "[41]\tvalid_0's l1: 19.053\tvalid_0's l2: 627.248\n",
      "[42]\tvalid_0's l1: 19.0421\tvalid_0's l2: 626.482\n",
      "[43]\tvalid_0's l1: 19.0524\tvalid_0's l2: 626.862\n",
      "[44]\tvalid_0's l1: 19.063\tvalid_0's l2: 627.396\n",
      "[45]\tvalid_0's l1: 19.0674\tvalid_0's l2: 627.727\n",
      "[46]\tvalid_0's l1: 19.0736\tvalid_0's l2: 628.034\n",
      "[47]\tvalid_0's l1: 19.0716\tvalid_0's l2: 627.93\n",
      "[48]\tvalid_0's l1: 19.069\tvalid_0's l2: 627.954\n",
      "[49]\tvalid_0's l1: 19.0782\tvalid_0's l2: 628.821\n",
      "[50]\tvalid_0's l1: 19.0925\tvalid_0's l2: 629.466\n",
      "[51]\tvalid_0's l1: 19.1094\tvalid_0's l2: 629.717\n",
      "[52]\tvalid_0's l1: 19.1204\tvalid_0's l2: 630.598\n",
      "[53]\tvalid_0's l1: 19.1119\tvalid_0's l2: 630.233\n",
      "[54]\tvalid_0's l1: 19.1135\tvalid_0's l2: 630.233\n",
      "[55]\tvalid_0's l1: 19.1155\tvalid_0's l2: 630.605\n",
      "[56]\tvalid_0's l1: 19.1188\tvalid_0's l2: 630.726\n",
      "[57]\tvalid_0's l1: 19.1211\tvalid_0's l2: 630.458\n",
      "[58]\tvalid_0's l1: 19.1355\tvalid_0's l2: 631.357\n",
      "[59]\tvalid_0's l1: 19.1451\tvalid_0's l2: 631.586\n",
      "[60]\tvalid_0's l1: 19.1441\tvalid_0's l2: 632.124\n",
      "[61]\tvalid_0's l1: 19.1413\tvalid_0's l2: 631.992\n",
      "[62]\tvalid_0's l1: 19.1413\tvalid_0's l2: 631.932\n",
      "[63]\tvalid_0's l1: 19.1476\tvalid_0's l2: 632.191\n",
      "[64]\tvalid_0's l1: 19.1574\tvalid_0's l2: 633.051\n",
      "[65]\tvalid_0's l1: 19.1612\tvalid_0's l2: 633.244\n",
      "[66]\tvalid_0's l1: 19.1636\tvalid_0's l2: 633.422\n",
      "[67]\tvalid_0's l1: 19.1663\tvalid_0's l2: 633.331\n",
      "[68]\tvalid_0's l1: 19.1767\tvalid_0's l2: 633.815\n",
      "[69]\tvalid_0's l1: 19.1848\tvalid_0's l2: 634.625\n",
      "[70]\tvalid_0's l1: 19.202\tvalid_0's l2: 635.181\n",
      "[71]\tvalid_0's l1: 19.1966\tvalid_0's l2: 635.168\n",
      "[72]\tvalid_0's l1: 19.201\tvalid_0's l2: 634.937\n",
      "[73]\tvalid_0's l1: 19.2009\tvalid_0's l2: 635.083\n",
      "[74]\tvalid_0's l1: 19.2116\tvalid_0's l2: 635.511\n",
      "[75]\tvalid_0's l1: 19.2206\tvalid_0's l2: 636.212\n",
      "[76]\tvalid_0's l1: 19.2327\tvalid_0's l2: 637.079\n",
      "[77]\tvalid_0's l1: 19.2409\tvalid_0's l2: 637.994\n",
      "[78]\tvalid_0's l1: 19.2455\tvalid_0's l2: 638.056\n",
      "[79]\tvalid_0's l1: 19.2515\tvalid_0's l2: 638.447\n",
      "[80]\tvalid_0's l1: 19.2569\tvalid_0's l2: 638.745\n",
      "[81]\tvalid_0's l1: 19.2638\tvalid_0's l2: 638.902\n",
      "[82]\tvalid_0's l1: 19.2702\tvalid_0's l2: 638.905\n",
      "[83]\tvalid_0's l1: 19.2912\tvalid_0's l2: 639.647\n",
      "[84]\tvalid_0's l1: 19.2944\tvalid_0's l2: 639.551\n",
      "[85]\tvalid_0's l1: 19.3008\tvalid_0's l2: 639.94\n",
      "[86]\tvalid_0's l1: 19.3113\tvalid_0's l2: 640.674\n",
      "[87]\tvalid_0's l1: 19.3234\tvalid_0's l2: 641.093\n",
      "[88]\tvalid_0's l1: 19.3208\tvalid_0's l2: 640.832\n",
      "[89]\tvalid_0's l1: 19.3233\tvalid_0's l2: 640.906\n",
      "[90]\tvalid_0's l1: 19.3275\tvalid_0's l2: 640.901\n",
      "[91]\tvalid_0's l1: 19.3356\tvalid_0's l2: 641.456\n",
      "[92]\tvalid_0's l1: 19.3402\tvalid_0's l2: 641.44\n",
      "[93]\tvalid_0's l1: 19.3358\tvalid_0's l2: 641.242\n",
      "[94]\tvalid_0's l1: 19.3438\tvalid_0's l2: 641.833\n",
      "[95]\tvalid_0's l1: 19.3449\tvalid_0's l2: 642.091\n",
      "[96]\tvalid_0's l1: 19.3599\tvalid_0's l2: 642.479\n",
      "[97]\tvalid_0's l1: 19.356\tvalid_0's l2: 642.65\n",
      "[98]\tvalid_0's l1: 19.3663\tvalid_0's l2: 643.278\n",
      "[99]\tvalid_0's l1: 19.3672\tvalid_0's l2: 643.364\n",
      "[100]\tvalid_0's l1: 19.3695\tvalid_0's l2: 643.872\n",
      "Did not meet early stopping. Best iteration is:\n",
      "[24]\tvalid_0's l1: 18.9337\tvalid_0's l2: 621.876\n"
     ]
    },
    {
     "data": {
      "text/plain": [
       "LGBMRegressor(num_leaves=300)"
      ]
     },
     "execution_count": 37,
     "metadata": {},
     "output_type": "execute_result"
    }
   ],
   "source": [
    "bst = lgb.LGBMRegressor(num_leaves=300)\n",
    "bst.fit(traindata, trainy, eval_set=[(valdata, valy)] , eval_metric='mae', early_stopping_rounds=200)"
   ]
  },
  {
   "cell_type": "code",
   "execution_count": 79,
   "id": "f09074d1-9b69-4dd7-856c-5442216a60e2",
   "metadata": {},
   "outputs": [
    {
     "name": "stdout",
     "output_type": "stream",
     "text": [
      "[LightGBM] [Warning] Auto-choosing row-wise multi-threading, the overhead of testing was 0.001550 seconds.\n",
      "You can set `force_row_wise=true` to remove the overhead.\n",
      "And if memory is not enough, you can set `force_col_wise=true`.\n",
      "[LightGBM] [Info] Total Bins 138\n",
      "[LightGBM] [Info] Number of data points in the train set: 22374, number of used features: 69\n",
      "[LightGBM] [Info] Start training from score 101.216367\n"
     ]
    }
   ],
   "source": [
    "num_round=1000\n",
    "param = {'num_leaves': 100, 'objective': 'regression'}\n",
    "bst = lgb.train(param, traindataset, num_round)"
   ]
  },
  {
   "cell_type": "code",
   "execution_count": 75,
   "id": "86325e1c-1589-446a-a228-54b3a25f707f",
   "metadata": {},
   "outputs": [
    {
     "data": {
      "text/plain": [
       "(2796, 71)"
      ]
     },
     "execution_count": 75,
     "metadata": {},
     "output_type": "execute_result"
    }
   ],
   "source": [
    "testdata.shape"
   ]
  },
  {
   "cell_type": "code",
   "execution_count": 80,
   "id": "292895d5-cf79-453f-942f-37aea70e3f3f",
   "metadata": {},
   "outputs": [],
   "source": [
    "ypred = bst.predict(testdata)"
   ]
  },
  {
   "cell_type": "code",
   "execution_count": 81,
   "id": "2d81210a-c6a7-4c2e-b7b8-d482769f9675",
   "metadata": {},
   "outputs": [],
   "source": [
    "from sklearn import metrics\n",
    "import matplotlib.pyplot as plt"
   ]
  },
  {
   "cell_type": "code",
   "execution_count": 82,
   "id": "ffd227ba-1852-473c-8e9a-c781b0bf908d",
   "metadata": {},
   "outputs": [
    {
     "data": {
      "text/plain": [
       "19.972878529976665"
      ]
     },
     "execution_count": 82,
     "metadata": {},
     "output_type": "execute_result"
    }
   ],
   "source": [
    "MAE = metrics.mean_absolute_error(ypred, testy)\n",
    "MAE"
   ]
  },
  {
   "cell_type": "code",
   "execution_count": 83,
   "id": "c4fd6197-784b-41f6-bd79-4ad30efb5df8",
   "metadata": {},
   "outputs": [
    {
     "data": {
      "image/png": "[encoded data removed]",
      "text/plain": [
       "<Figure size 640x480 with 1 Axes>"
      ]
     },
     "metadata": {},
     "output_type": "display_data"
    }
   ],
   "source": [
    "line = list(range(250))\n",
    "fig = plt.figure()\n",
    "ax = fig.add_subplot(111)\n",
    "ax.set_aspect('equal', adjustable='box')\n",
    "ax.set_title(f'{faction} residuals')\n",
    "plt.plot(ypred, testy, 'bo', line, line, 'r--')\n",
    "plt.xlabel('y_pred')\n",
    "plt.ylabel('y_real')\n",
    "plt.xlim([0, 250])\n",
    "plt.ylim([0, 250])\n",
    "plt.show()"
   ]
  },
  {
   "cell_type": "code",
   "execution_count": 84,
   "id": "466b46dc-fadd-4290-9eca-7c9d3a3d3b99",
   "metadata": {},
   "outputs": [],
   "source": [
    "residuals = np.array(ypred) - np.array(testy)\n",
    "avgres = np.mean(residuals)\n",
    "original = np.array(testy) - np.mean(testy)\n",
    "maxorig = math.ceil(np.max(original))\n",
    "minorig = math.floor(np.min(original))\n",
    "bins_list = list(range(minorig, maxorig))"
   ]
  },
  {
   "cell_type": "code",
   "execution_count": 85,
   "id": "c73d5a71-188e-4b18-bd3c-b47cb3650d0a",
   "metadata": {},
   "outputs": [
    {
     "data": {
      "image/png": "[encoded data removed]",
      "text/plain": [
       "<Figure size 640x480 with 1 Axes>"
      ]
     },
     "metadata": {},
     "output_type": "display_data"
    }
   ],
   "source": [
    "fig = plt.figure()\n",
    "ax = fig.add_subplot(111)\n",
    "ax.set_title(f'{faction} residuals histogram')\n",
    "plt.hist(original, bins=bins_list, color='r')\n",
    "plt.hist(residuals, bins=200)\n",
    "plt.xlabel('Difference +/- of y_pred relative to y_real')\n",
    "#h = ax.plot([avgres, avgres], [0, 600], 'r--')\n",
    "plt.show()"
   ]
  },
  {
   "cell_type": "code",
   "execution_count": 58,
   "id": "a19a9388-36da-4c6f-bf5c-6216431b9c02",
   "metadata": {},
   "outputs": [
    {
     "ename": "SyntaxError",
     "evalue": "invalid syntax (<ipython-input-58-3d01449f4790>, line 5)",
     "output_type": "error",
     "traceback": [
      "\u001b[1;36m  File \u001b[1;32m\"<ipython-input-58-3d01449f4790>\"\u001b[1;36m, line \u001b[1;32m5\u001b[0m\n\u001b[1;33m    ax1.set(xlabel='y_pred', ylabel='y_real')\u001b[0m\n\u001b[1;37m      ^\u001b[0m\n\u001b[1;31mSyntaxError\u001b[0m\u001b[1;31m:\u001b[0m invalid syntax\n"
     ]
    }
   ],
   "source": [
    "fig, (ax1, ax2) = plt.subplots(1, 2)\n",
    "ax1.set_aspect('equal', adjustable='box')\n",
    "ax1.set_title(f'{faction} residuals')\n",
    "ax1.plot(ypred, np.array(testy, 'bo', line, line, 'r--')\n",
    "ax1.set(xlabel='y_pred', ylabel='y_real')\n",
    "ax1.set(xlim=[0, 250], ylim=[0, 250])\n",
    "\n",
    "ax2.set_title(f'{faction} residuals histogram')\n",
    "ax2.hist(residuals, bins=100)\n",
    "ax2.set(xlabel='Difference +/- of y_pred relative to y_real')\n",
    "h = ax2.plot([avgres, avgres], [0, 600], 'r--')\n",
    "plt.show()"
   ]
  },
  {
   "cell_type": "code",
   "execution_count": null,
   "id": "dc99b122-0c67-4af8-9c7d-22230cf32166",
   "metadata": {},
   "outputs": [],
   "source": [
    "# metricsdir = 'data/faction-picker-bot/metrics/'\n",
    "# plt.savefig(metricsdir + f'{faction} charts.png')"
   ]
  },
  {
   "cell_type": "code",
   "execution_count": null,
   "id": "2e65f854-b42e-485c-9af9-179e951c1f42",
   "metadata": {},
   "outputs": [],
   "source": []
  }
 ],
 "metadata": {
  "kernelspec": {
   "display_name": "Python 3",
   "language": "python",
   "name": "python3"
  },
  "language_info": {
   "codemirror_mode": {
    "name": "ipython",
    "version": 3
   },
   "file_extension": ".py",
   "mimetype": "text/x-python",
   "name": "python",
   "nbconvert_exporter": "python",
   "pygments_lexer": "ipython3",
   "version": "3.7.4"
  }
 },
 "nbformat": 4,
 "nbformat_minor": 5
}
