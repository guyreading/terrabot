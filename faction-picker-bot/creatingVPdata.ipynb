{
 "cells": [
  {
   "cell_type": "code",
   "execution_count": 3,
   "metadata": {},
   "outputs": [],
   "source": [
    "import pandas as pd\n",
    "import numpy as np"
   ]
  },
  {
   "cell_type": "markdown",
   "metadata": {},
   "source": [
    "## THE FOLLOWING IS USING DATA FROM THE WEBSITE - FOR NOW WE'LL JUST USE THE DATA LOCALLY\n",
    "But we'll keep this section here for now, commented out."
   ]
  },
  {
   "cell_type": "code",
   "execution_count": 55,
   "metadata": {},
   "outputs": [],
   "source": [
    "# bigoldlist = ['2013-02.json',\n",
    "# '2013-03.json',\n",
    "# '2013-04.json',\n",
    "# '2013-05.json',\n",
    "# '2013-06.json',\n",
    "# '2013-07.json',\n",
    "# '2013-08.json',\n",
    "# '2013-09.json',\n",
    "# '2013-10.json',\n",
    "# '2013-11.json',\n",
    "# '2013-12.json',\n",
    "# '2014-01.json',\n",
    "# '2014-02.json',\n",
    "# '2014-03.json',\n",
    "# '2014-04.json',\n",
    "# '2014-05.json',\n",
    "# '2014-06.json',\n",
    "# '2014-07.json',\n",
    "# '2014-08.json',\n",
    "# '2014-09.json',\n",
    "# '2014-10.json',\n",
    "# '2014-11.json',\n",
    "# '2014-12.json',\n",
    "# '2015-01.json',\n",
    "# '2015-02.json',\n",
    "# '2015-03.json',\n",
    "# '2015-04.json',\n",
    "# '2015-05.json',\n",
    "# '2015-06.json',\n",
    "# '2015-07.json',\n",
    "# '2015-08.json',\n",
    "# '2015-09.json',\n",
    "# '2015-10.json',\n",
    "# '2015-11.json',\n",
    "# '2015-12.json',\n",
    "# '2016-01.json',\n",
    "# '2016-02.json',\n",
    "# '2016-03.json',\n",
    "# '2016-04.json',\n",
    "# '2016-05.json',\n",
    "# '2016-06.json',\n",
    "# '2016-07.json',\n",
    "# '2016-08.json',\n",
    "# '2016-09.json',\n",
    "# '2016-10.json',\n",
    "# '2016-11.json',\n",
    "# '2016-12.json',\n",
    "# '2017-01.json',\n",
    "# '2017-02.json',\n",
    "# '2017-03.json',\n",
    "# '2017-04.json',\n",
    "# '2017-05.json',\n",
    "# '2017-06.json',\n",
    "# '2017-07.json',\n",
    "# '2017-08.json',\n",
    "# '2017-09.json',\n",
    "# '2017-10.json',\n",
    "# '2017-11.json',\n",
    "# '2017-12.json',\n",
    "# '2018-01.json',\n",
    "# '2018-02.json',\n",
    "# '2018-03.json',\n",
    "# '2018-04.json',\n",
    "# '2018-05.json',\n",
    "# '2018-06.json',\n",
    "# '2018-07.json',\n",
    "# '2018-08.json',\n",
    "# '2018-09.json',\n",
    "# '2018-10.json',\n",
    "# '2018-11.json',\n",
    "# '2018-12.json',\n",
    "# '2019-01.json',\n",
    "# '2019-02.json',\n",
    "# '2019-03.json',\n",
    "# '2019-04.json',\n",
    "# '2019-05.json',\n",
    "# '2019-06.json',\n",
    "# '2019-07.json',\n",
    "# '2019-08.json',\n",
    "# '2019-09.json',\n",
    "# '2019-10.json',\n",
    "# '2019-11.json',\n",
    "# '2019-12.json',\n",
    "# '2020-01.json',\n",
    "# '2020-02.json',\n",
    "# '2020-03.json',\n",
    "# '2020-04.json',\n",
    "# '2020-05.json',\n",
    "# '2020-06.json',\n",
    "# '2020-07.json',\n",
    "# '2020-08.json',\n",
    "# '2020-09.json',\n",
    "# '2020-10.json',\n",
    "# '2020-11.json',\n",
    "# '2020-12.json',\n",
    "# '2021-01.json',\n",
    "# '2021-02.json',\n",
    "# '2021-03.json',\n",
    "# '2021-04.json']"
   ]
  },
  {
   "cell_type": "code",
   "execution_count": null,
   "metadata": {},
   "outputs": [],
   "source": [
    "# # Test start of web pipeline (not used)\n",
    "# url = 'https://terra.snellman.net/data/events/' + bigoldlist[0]\n",
    "# eventsdata1 = pd.read_json(url)\n",
    "# print(len(eventsdata1))\n",
    "# eventsdata1.head()"
   ]
  },
  {
   "cell_type": "code",
   "execution_count": null,
   "metadata": {},
   "outputs": [],
   "source": [
    "# # Load in the data remotely\n",
    "# for gameset in bigoldlist:\n",
    "#     url = 'https://terra.snellman.net/data/events/' + gameset\n",
    "#     eventsdata = pd.read_json(url)\n",
    "    \n",
    "#     for eachgame in range(len(gameset)):\n",
    "#         singlerow = eventsdata.iloc[[eachgame]]\n",
    "#         newcol = get_vp_from_game(gameEventRow)\n",
    "#         vpdf = vpdf.append(newdf, ignore_index=True)      "
   ]
  },
  {
   "cell_type": "markdown",
   "metadata": {},
   "source": [
    "## Loading in the data Locally"
   ]
  },
  {
   "cell_type": "code",
   "execution_count": 4,
   "metadata": {},
   "outputs": [],
   "source": [
    "folderlocation = \"D:/PycharmProjects/TerraBot/terra-mystica\"\n",
    "gameevents = pd.read_csv(f'{folderlocation}/game_events.csv')"
   ]
  },
  {
   "cell_type": "markdown",
   "metadata": {},
   "source": [
    "## Creating the new dataset"
   ]
  },
  {
   "cell_type": "code",
   "execution_count": 57,
   "metadata": {},
   "outputs": [
    {
     "name": "stdout",
     "output_type": "stream",
     "text": [
      "1\n"
     ]
    },
    {
     "data": {
      "text/html": [
       "<div>\n",
       "<style scoped>\n",
       "    .dataframe tbody tr th:only-of-type {\n",
       "        vertical-align: middle;\n",
       "    }\n",
       "\n",
       "    .dataframe tbody tr th {\n",
       "        vertical-align: top;\n",
       "    }\n",
       "\n",
       "    .dataframe thead th {\n",
       "        text-align: right;\n",
       "    }\n",
       "</style>\n",
       "<table border=\"1\" class=\"dataframe\">\n",
       "  <thead>\n",
       "    <tr style=\"text-align: right;\">\n",
       "      <th></th>\n",
       "      <th>game</th>\n",
       "      <th>witches</th>\n",
       "      <th>auren</th>\n",
       "      <th>swarmlings</th>\n",
       "      <th>mermaids</th>\n",
       "      <th>cultists</th>\n",
       "      <th>halflings</th>\n",
       "      <th>dwarves</th>\n",
       "      <th>engineers</th>\n",
       "      <th>chaosmagicians</th>\n",
       "      <th>giants</th>\n",
       "      <th>fakirs</th>\n",
       "      <th>nomads</th>\n",
       "      <th>darklings</th>\n",
       "      <th>alchemists</th>\n",
       "    </tr>\n",
       "  </thead>\n",
       "  <tbody>\n",
       "    <tr>\n",
       "      <th>0</th>\n",
       "      <td>NaN</td>\n",
       "      <td>NaN</td>\n",
       "      <td>test</td>\n",
       "      <td>NaN</td>\n",
       "      <td>NaN</td>\n",
       "      <td>NaN</td>\n",
       "      <td>NaN</td>\n",
       "      <td>NaN</td>\n",
       "      <td>NaN</td>\n",
       "      <td>NaN</td>\n",
       "      <td>NaN</td>\n",
       "      <td>NaN</td>\n",
       "      <td>NaN</td>\n",
       "      <td>NaN</td>\n",
       "      <td>NaN</td>\n",
       "    </tr>\n",
       "  </tbody>\n",
       "</table>\n",
       "</div>"
      ],
      "text/plain": [
       "  game witches auren swarmlings mermaids cultists halflings dwarves engineers  \\\n",
       "0  NaN     NaN  test        NaN      NaN      NaN       NaN     NaN       NaN   \n",
       "\n",
       "  chaosmagicians giants fakirs nomads darklings alchemists  \n",
       "0            NaN    NaN    NaN    NaN       NaN        NaN  "
      ]
     },
     "execution_count": 57,
     "metadata": {},
     "output_type": "execute_result"
    }
   ],
   "source": [
    "# make dataframe to be added to\n",
    "validfactions = ['witches', 'auren', 'swarmlings', 'mermaids', 'cultists', 'halflings', 'dwarves', 'engineers', 'chaosmagicians', 'giants', 'fakirs', 'nomads', 'darklings', 'alchemists']\n",
    "dfcols = ['game'] + validfactions\n",
    "vpdf = pd.DataFrame(columns=dfcols)\n",
    "\n",
    "sensecheck = False\n",
    "if sensecheck:\n",
    "    newdf = pd.DataFrame([[np.nan] * 15], columns=dfcols)\n",
    "    newdf['auren'].replace({np.nan: 'test'}, inplace=True)\n",
    "    vpdf = vpdf.append(newdf, ignore_index=True)\n",
    "    print(len(vpdf))\n",
    "    vpdf.head()"
   ]
  },
  {
   "cell_type": "code",
   "execution_count": 58,
   "metadata": {},
   "outputs": [],
   "source": [
    "def get_vp_from_game(singleGameEvents):\n",
    "    \"\"\"Input game events for a single game. This is a pd.DataFrame. \n",
    "    Output a row where each faction in the game has its vp populated (the rest are nans)\n",
    "    \"\"\"\n",
    "    newdf = pd.DataFrame([[np.nan] * 15], columns=dfcols)\n",
    "    \n",
    "    # assign the game number\n",
    "    gameno = list(pd.unique(singleGameEvents['game']))\n",
    "    # assert len(gameno) == 1, 'More than 1 unique game was found'\n",
    "    \n",
    "    newdf['game'].replace({np.nan: gameno[0]}, inplace=True)\n",
    "    \n",
    "    # find factions\n",
    "    verifiedfactions = []\n",
    "    rawfactions = list(pd.unique(singleGameEvents['faction']))\n",
    "    \n",
    "    # there are some artifacts in the data. We need to filter them out.\n",
    "    for rawfaction in rawfactions:\n",
    "        if rawfaction in validfactions:\n",
    "            verifiedfactions.append(rawfaction)\n",
    "    \n",
    "    for faction in verifiedfactions:\n",
    "        vpfaction = sum(singleGameEvents[(singleGameEvents['event'] == 'vp') & (singleGameEvents['faction'] == faction)]['num'])\n",
    "        newdf[faction].replace({np.nan: vpfaction}, inplace=True)\n",
    "        \n",
    "    return newdf"
   ]
  },
  {
   "cell_type": "code",
   "execution_count": 14,
   "metadata": {},
   "outputs": [
    {
     "name": "stdout",
     "output_type": "stream",
     "text": [
      "Number of game events: 73419074\n",
      "Number of games: 115612\n"
     ]
    }
   ],
   "source": [
    "# get some stats\n",
    "print(f'Number of game events: {len(gameevents)}')\n",
    "print(f\"Number of games: {len(pd.unique(gameevents['game']))}\")"
   ]
  },
  {
   "cell_type": "code",
   "execution_count": 66,
   "metadata": {},
   "outputs": [
    {
     "name": "stdout",
     "output_type": "stream",
     "text": [
      "Time elapsed: 4.436329364776611s\n",
      "Time to do all games at current speed: 142.470252922376hrs\n"
     ]
    },
    {
     "data": {
      "text/html": [
       "<div>\n",
       "<style scoped>\n",
       "    .dataframe tbody tr th:only-of-type {\n",
       "        vertical-align: middle;\n",
       "    }\n",
       "\n",
       "    .dataframe tbody tr th {\n",
       "        vertical-align: top;\n",
       "    }\n",
       "\n",
       "    .dataframe thead th {\n",
       "        text-align: right;\n",
       "    }\n",
       "</style>\n",
       "<table border=\"1\" class=\"dataframe\">\n",
       "  <thead>\n",
       "    <tr style=\"text-align: right;\">\n",
       "      <th></th>\n",
       "      <th>game</th>\n",
       "      <th>witches</th>\n",
       "      <th>auren</th>\n",
       "      <th>swarmlings</th>\n",
       "      <th>mermaids</th>\n",
       "      <th>cultists</th>\n",
       "      <th>halflings</th>\n",
       "      <th>dwarves</th>\n",
       "      <th>engineers</th>\n",
       "      <th>chaosmagicians</th>\n",
       "      <th>giants</th>\n",
       "      <th>fakirs</th>\n",
       "      <th>nomads</th>\n",
       "      <th>darklings</th>\n",
       "      <th>alchemists</th>\n",
       "    </tr>\n",
       "  </thead>\n",
       "  <tbody>\n",
       "    <tr>\n",
       "      <th>0</th>\n",
       "      <td>0000000001</td>\n",
       "      <td>NaN</td>\n",
       "      <td>NaN</td>\n",
       "      <td>NaN</td>\n",
       "      <td>118.0</td>\n",
       "      <td>NaN</td>\n",
       "      <td>62.0</td>\n",
       "      <td>NaN</td>\n",
       "      <td>NaN</td>\n",
       "      <td>NaN</td>\n",
       "      <td>NaN</td>\n",
       "      <td>NaN</td>\n",
       "      <td>NaN</td>\n",
       "      <td>NaN</td>\n",
       "      <td>NaN</td>\n",
       "    </tr>\n",
       "  </tbody>\n",
       "</table>\n",
       "</div>"
      ],
      "text/plain": [
       "         game  witches  auren  swarmlings  mermaids  cultists  halflings  \\\n",
       "0  0000000001      NaN    NaN         NaN     118.0       NaN       62.0   \n",
       "\n",
       "   dwarves  engineers  chaosmagicians  giants  fakirs  nomads  darklings  \\\n",
       "0      NaN        NaN             NaN     NaN     NaN     NaN        NaN   \n",
       "\n",
       "   alchemists  \n",
       "0         NaN  "
      ]
     },
     "execution_count": 66,
     "metadata": {},
     "output_type": "execute_result"
    }
   ],
   "source": [
    "# sense check\n",
    "import time\n",
    "\n",
    "start = time.time()\n",
    "singlegame = gameevents[gameevents['game'] == '0000000001']\n",
    "singlegamefactions = (list(pd.unique(singlegame['faction'])))\n",
    "vpforgame = get_vp_from_game(singlegame)\n",
    "end = time.time()\n",
    "\n",
    "print(f'Time elapsed: {end-start}s')\n",
    "print(f'Time to do all games at current speed: {((end-start)*len(pd.unique(gameevents[\"game\"]))/3600)}hrs')\n",
    "vpforgame"
   ]
  }
 ],
 "metadata": {
  "kernelspec": {
   "display_name": "Python 3",
   "language": "python",
   "name": "python3"
  },
  "language_info": {
   "codemirror_mode": {
    "name": "ipython",
    "version": 3
   },
   "file_extension": ".py",
   "mimetype": "text/x-python",
   "name": "python",
   "nbconvert_exporter": "python",
   "pygments_lexer": "ipython3",
   "version": "3.7.4"
  }
 },
 "nbformat": 4,
 "nbformat_minor": 4
}
